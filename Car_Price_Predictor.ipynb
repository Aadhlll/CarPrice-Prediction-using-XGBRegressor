{
  "nbformat": 4,
  "nbformat_minor": 0,
  "metadata": {
    "colab": {
      "provenance": [],
      "authorship_tag": "ABX9TyOm7JpAD2xRNZe5G0X8ZnY+",
      "include_colab_link": true
    },
    "kernelspec": {
      "name": "python3",
      "display_name": "Python 3"
    },
    "language_info": {
      "name": "python"
    }
  },
  "cells": [
    {
      "cell_type": "markdown",
      "metadata": {
        "id": "view-in-github",
        "colab_type": "text"
      },
      "source": [
        "<a href=\"https://colab.research.google.com/github/Aadhlll/CarPrice-Prediction-using-XGBRegressor/blob/main/Car_Price_Predictor.ipynb\" target=\"_parent\"><img src=\"https://colab.research.google.com/assets/colab-badge.svg\" alt=\"Open In Colab\"/></a>"
      ]
    },
    {
      "cell_type": "code",
      "execution_count": null,
      "metadata": {
        "id": "iEnmwWNpxdPq"
      },
      "outputs": [],
      "source": [
        "# Import necessary libraries\n",
        "import pandas as pd\n",
        "import numpy as np\n",
        "import seaborn as sns\n",
        "import matplotlib.pyplot as plt\n",
        "from sklearn.model_selection import train_test_split\n",
        "from sklearn.preprocessing import StandardScaler\n",
        "from sklearn.linear_model import LinearRegression, Ridge, Lasso\n",
        "from sklearn.ensemble import RandomForestRegressor, GradientBoostingRegressor\n",
        "from xgboost import XGBRegressor,XGBClassifier\n",
        "from sklearn.metrics import mean_squared_error, r2_score\n",
        "from sklearn.tree import DecisionTreeClassifier,DecisionTreeRegressor\n",
        "from sklearn import metrics\n",
        "import math\n"
      ]
    },
    {
      "cell_type": "code",
      "source": [
        "# Load the training dataset\n",
        "train_df = pd.read_csv('train-data.csv')\n",
        "# Extract the car brand from the 'Name' column\n",
        "train_df['Car_Brand'] = train_df['Name'].apply(lambda x: x.split(' ')[0])\n",
        "train_df['Car_Brand'] = train_df['Car_Brand'].astype('category')\n",
        "train_df['Fuel_Type'] = train_df['Fuel_Type'].astype('category')\n",
        "# Explore the training dataset\n",
        "print(train_df.info())\n",
        "train_df.head()"
      ],
      "metadata": {
        "colab": {
          "base_uri": "https://localhost:8080/",
          "height": 605
        },
        "id": "-yfCBA95zTg1",
        "outputId": "c38e6f9d-7b12-4436-d7c3-2a5b6453963b"
      },
      "execution_count": null,
      "outputs": [
        {
          "output_type": "stream",
          "name": "stdout",
          "text": [
            "<class 'pandas.core.frame.DataFrame'>\n",
            "RangeIndex: 6019 entries, 0 to 6018\n",
            "Data columns (total 15 columns):\n",
            " #   Column             Non-Null Count  Dtype   \n",
            "---  ------             --------------  -----   \n",
            " 0   S.No               6019 non-null   int64   \n",
            " 1   Name               6019 non-null   object  \n",
            " 2   Location           6019 non-null   object  \n",
            " 3   Year               6019 non-null   int64   \n",
            " 4   Kilometers_Driven  6019 non-null   int64   \n",
            " 5   Fuel_Type          6019 non-null   category\n",
            " 6   Transmission       6019 non-null   object  \n",
            " 7   Owner_Type         6019 non-null   object  \n",
            " 8   Mileage            6019 non-null   object  \n",
            " 9   Engine             5983 non-null   object  \n",
            " 10  Power              5983 non-null   object  \n",
            " 11  Seats              5977 non-null   float64 \n",
            " 12  New_Price          824 non-null    object  \n",
            " 13  Price              6019 non-null   float64 \n",
            " 14  Car_Brand          6019 non-null   category\n",
            "dtypes: category(2), float64(2), int64(3), object(8)\n",
            "memory usage: 624.7+ KB\n",
            "None\n"
          ]
        },
        {
          "output_type": "execute_result",
          "data": {
            "text/plain": [
              "   S.No                                       Name   Location  Year  \\\n",
              "0   558                           Audi TT 2.0 TFSI      Delhi  2013   \n",
              "1  1289                           Audi TT 2.0 TFSI      Kochi  2014   \n",
              "2  3581  Mercedes-Benz CLS-Class 2006-2010 350 CDI  Hyderabad  2010   \n",
              "3  4002               Honda Accord 2.4 Inspire M/T     Mumbai  2012   \n",
              "4  4200               Honda Accord 2.4 Inspire M/T       Pune  2009   \n",
              "\n",
              "   Kilometers_Driven Fuel_Type Transmission Owner_Type   Mileage   Engine  \\\n",
              "0              12100    Petrol    Automatic      First  9.9 kmpl  1984 CC   \n",
              "1              14262    Petrol    Automatic      First  9.9 kmpl  1984 CC   \n",
              "2              29000    Diesel    Automatic      First  9.9 kmpl  3498 CC   \n",
              "3              42000    Petrol       Manual      First  9.8 kmpl  2354 CC   \n",
              "4              60000    Petrol       Manual     Second  9.8 kmpl  2354 CC   \n",
              "\n",
              "        Power  Seats New_Price  Price      Car_Brand  \n",
              "0   207.8 bhp    2.0       NaN  29.50           Audi  \n",
              "1   207.8 bhp    2.0       NaN  27.35           Audi  \n",
              "2  271.72 bhp    4.0       NaN  32.00  Mercedes-Benz  \n",
              "3     180 bhp    5.0       NaN   6.25          Honda  \n",
              "4     180 bhp    5.0       NaN   3.50          Honda  "
            ],
            "text/html": [
              "\n",
              "  <div id=\"df-291ef7e2-50be-4a17-b106-12119c703091\" class=\"colab-df-container\">\n",
              "    <div>\n",
              "<style scoped>\n",
              "    .dataframe tbody tr th:only-of-type {\n",
              "        vertical-align: middle;\n",
              "    }\n",
              "\n",
              "    .dataframe tbody tr th {\n",
              "        vertical-align: top;\n",
              "    }\n",
              "\n",
              "    .dataframe thead th {\n",
              "        text-align: right;\n",
              "    }\n",
              "</style>\n",
              "<table border=\"1\" class=\"dataframe\">\n",
              "  <thead>\n",
              "    <tr style=\"text-align: right;\">\n",
              "      <th></th>\n",
              "      <th>S.No</th>\n",
              "      <th>Name</th>\n",
              "      <th>Location</th>\n",
              "      <th>Year</th>\n",
              "      <th>Kilometers_Driven</th>\n",
              "      <th>Fuel_Type</th>\n",
              "      <th>Transmission</th>\n",
              "      <th>Owner_Type</th>\n",
              "      <th>Mileage</th>\n",
              "      <th>Engine</th>\n",
              "      <th>Power</th>\n",
              "      <th>Seats</th>\n",
              "      <th>New_Price</th>\n",
              "      <th>Price</th>\n",
              "      <th>Car_Brand</th>\n",
              "    </tr>\n",
              "  </thead>\n",
              "  <tbody>\n",
              "    <tr>\n",
              "      <th>0</th>\n",
              "      <td>558</td>\n",
              "      <td>Audi TT 2.0 TFSI</td>\n",
              "      <td>Delhi</td>\n",
              "      <td>2013</td>\n",
              "      <td>12100</td>\n",
              "      <td>Petrol</td>\n",
              "      <td>Automatic</td>\n",
              "      <td>First</td>\n",
              "      <td>9.9 kmpl</td>\n",
              "      <td>1984 CC</td>\n",
              "      <td>207.8 bhp</td>\n",
              "      <td>2.0</td>\n",
              "      <td>NaN</td>\n",
              "      <td>29.50</td>\n",
              "      <td>Audi</td>\n",
              "    </tr>\n",
              "    <tr>\n",
              "      <th>1</th>\n",
              "      <td>1289</td>\n",
              "      <td>Audi TT 2.0 TFSI</td>\n",
              "      <td>Kochi</td>\n",
              "      <td>2014</td>\n",
              "      <td>14262</td>\n",
              "      <td>Petrol</td>\n",
              "      <td>Automatic</td>\n",
              "      <td>First</td>\n",
              "      <td>9.9 kmpl</td>\n",
              "      <td>1984 CC</td>\n",
              "      <td>207.8 bhp</td>\n",
              "      <td>2.0</td>\n",
              "      <td>NaN</td>\n",
              "      <td>27.35</td>\n",
              "      <td>Audi</td>\n",
              "    </tr>\n",
              "    <tr>\n",
              "      <th>2</th>\n",
              "      <td>3581</td>\n",
              "      <td>Mercedes-Benz CLS-Class 2006-2010 350 CDI</td>\n",
              "      <td>Hyderabad</td>\n",
              "      <td>2010</td>\n",
              "      <td>29000</td>\n",
              "      <td>Diesel</td>\n",
              "      <td>Automatic</td>\n",
              "      <td>First</td>\n",
              "      <td>9.9 kmpl</td>\n",
              "      <td>3498 CC</td>\n",
              "      <td>271.72 bhp</td>\n",
              "      <td>4.0</td>\n",
              "      <td>NaN</td>\n",
              "      <td>32.00</td>\n",
              "      <td>Mercedes-Benz</td>\n",
              "    </tr>\n",
              "    <tr>\n",
              "      <th>3</th>\n",
              "      <td>4002</td>\n",
              "      <td>Honda Accord 2.4 Inspire M/T</td>\n",
              "      <td>Mumbai</td>\n",
              "      <td>2012</td>\n",
              "      <td>42000</td>\n",
              "      <td>Petrol</td>\n",
              "      <td>Manual</td>\n",
              "      <td>First</td>\n",
              "      <td>9.8 kmpl</td>\n",
              "      <td>2354 CC</td>\n",
              "      <td>180 bhp</td>\n",
              "      <td>5.0</td>\n",
              "      <td>NaN</td>\n",
              "      <td>6.25</td>\n",
              "      <td>Honda</td>\n",
              "    </tr>\n",
              "    <tr>\n",
              "      <th>4</th>\n",
              "      <td>4200</td>\n",
              "      <td>Honda Accord 2.4 Inspire M/T</td>\n",
              "      <td>Pune</td>\n",
              "      <td>2009</td>\n",
              "      <td>60000</td>\n",
              "      <td>Petrol</td>\n",
              "      <td>Manual</td>\n",
              "      <td>Second</td>\n",
              "      <td>9.8 kmpl</td>\n",
              "      <td>2354 CC</td>\n",
              "      <td>180 bhp</td>\n",
              "      <td>5.0</td>\n",
              "      <td>NaN</td>\n",
              "      <td>3.50</td>\n",
              "      <td>Honda</td>\n",
              "    </tr>\n",
              "  </tbody>\n",
              "</table>\n",
              "</div>\n",
              "    <div class=\"colab-df-buttons\">\n",
              "\n",
              "  <div class=\"colab-df-container\">\n",
              "    <button class=\"colab-df-convert\" onclick=\"convertToInteractive('df-291ef7e2-50be-4a17-b106-12119c703091')\"\n",
              "            title=\"Convert this dataframe to an interactive table.\"\n",
              "            style=\"display:none;\">\n",
              "\n",
              "  <svg xmlns=\"http://www.w3.org/2000/svg\" height=\"24px\" viewBox=\"0 -960 960 960\">\n",
              "    <path d=\"M120-120v-720h720v720H120Zm60-500h600v-160H180v160Zm220 220h160v-160H400v160Zm0 220h160v-160H400v160ZM180-400h160v-160H180v160Zm440 0h160v-160H620v160ZM180-180h160v-160H180v160Zm440 0h160v-160H620v160Z\"/>\n",
              "  </svg>\n",
              "    </button>\n",
              "\n",
              "  <style>\n",
              "    .colab-df-container {\n",
              "      display:flex;\n",
              "      gap: 12px;\n",
              "    }\n",
              "\n",
              "    .colab-df-convert {\n",
              "      background-color: #E8F0FE;\n",
              "      border: none;\n",
              "      border-radius: 50%;\n",
              "      cursor: pointer;\n",
              "      display: none;\n",
              "      fill: #1967D2;\n",
              "      height: 32px;\n",
              "      padding: 0 0 0 0;\n",
              "      width: 32px;\n",
              "    }\n",
              "\n",
              "    .colab-df-convert:hover {\n",
              "      background-color: #E2EBFA;\n",
              "      box-shadow: 0px 1px 2px rgba(60, 64, 67, 0.3), 0px 1px 3px 1px rgba(60, 64, 67, 0.15);\n",
              "      fill: #174EA6;\n",
              "    }\n",
              "\n",
              "    .colab-df-buttons div {\n",
              "      margin-bottom: 4px;\n",
              "    }\n",
              "\n",
              "    [theme=dark] .colab-df-convert {\n",
              "      background-color: #3B4455;\n",
              "      fill: #D2E3FC;\n",
              "    }\n",
              "\n",
              "    [theme=dark] .colab-df-convert:hover {\n",
              "      background-color: #434B5C;\n",
              "      box-shadow: 0px 1px 3px 1px rgba(0, 0, 0, 0.15);\n",
              "      filter: drop-shadow(0px 1px 2px rgba(0, 0, 0, 0.3));\n",
              "      fill: #FFFFFF;\n",
              "    }\n",
              "  </style>\n",
              "\n",
              "    <script>\n",
              "      const buttonEl =\n",
              "        document.querySelector('#df-291ef7e2-50be-4a17-b106-12119c703091 button.colab-df-convert');\n",
              "      buttonEl.style.display =\n",
              "        google.colab.kernel.accessAllowed ? 'block' : 'none';\n",
              "\n",
              "      async function convertToInteractive(key) {\n",
              "        const element = document.querySelector('#df-291ef7e2-50be-4a17-b106-12119c703091');\n",
              "        const dataTable =\n",
              "          await google.colab.kernel.invokeFunction('convertToInteractive',\n",
              "                                                    [key], {});\n",
              "        if (!dataTable) return;\n",
              "\n",
              "        const docLinkHtml = 'Like what you see? Visit the ' +\n",
              "          '<a target=\"_blank\" href=https://colab.research.google.com/notebooks/data_table.ipynb>data table notebook</a>'\n",
              "          + ' to learn more about interactive tables.';\n",
              "        element.innerHTML = '';\n",
              "        dataTable['output_type'] = 'display_data';\n",
              "        await google.colab.output.renderOutput(dataTable, element);\n",
              "        const docLink = document.createElement('div');\n",
              "        docLink.innerHTML = docLinkHtml;\n",
              "        element.appendChild(docLink);\n",
              "      }\n",
              "    </script>\n",
              "  </div>\n",
              "\n",
              "\n",
              "<div id=\"df-e233c345-543d-45ce-a519-e8a9afb46b47\">\n",
              "  <button class=\"colab-df-quickchart\" onclick=\"quickchart('df-e233c345-543d-45ce-a519-e8a9afb46b47')\"\n",
              "            title=\"Suggest charts\"\n",
              "            style=\"display:none;\">\n",
              "\n",
              "<svg xmlns=\"http://www.w3.org/2000/svg\" height=\"24px\"viewBox=\"0 0 24 24\"\n",
              "     width=\"24px\">\n",
              "    <g>\n",
              "        <path d=\"M19 3H5c-1.1 0-2 .9-2 2v14c0 1.1.9 2 2 2h14c1.1 0 2-.9 2-2V5c0-1.1-.9-2-2-2zM9 17H7v-7h2v7zm4 0h-2V7h2v10zm4 0h-2v-4h2v4z\"/>\n",
              "    </g>\n",
              "</svg>\n",
              "  </button>\n",
              "\n",
              "<style>\n",
              "  .colab-df-quickchart {\n",
              "      --bg-color: #E8F0FE;\n",
              "      --fill-color: #1967D2;\n",
              "      --hover-bg-color: #E2EBFA;\n",
              "      --hover-fill-color: #174EA6;\n",
              "      --disabled-fill-color: #AAA;\n",
              "      --disabled-bg-color: #DDD;\n",
              "  }\n",
              "\n",
              "  [theme=dark] .colab-df-quickchart {\n",
              "      --bg-color: #3B4455;\n",
              "      --fill-color: #D2E3FC;\n",
              "      --hover-bg-color: #434B5C;\n",
              "      --hover-fill-color: #FFFFFF;\n",
              "      --disabled-bg-color: #3B4455;\n",
              "      --disabled-fill-color: #666;\n",
              "  }\n",
              "\n",
              "  .colab-df-quickchart {\n",
              "    background-color: var(--bg-color);\n",
              "    border: none;\n",
              "    border-radius: 50%;\n",
              "    cursor: pointer;\n",
              "    display: none;\n",
              "    fill: var(--fill-color);\n",
              "    height: 32px;\n",
              "    padding: 0;\n",
              "    width: 32px;\n",
              "  }\n",
              "\n",
              "  .colab-df-quickchart:hover {\n",
              "    background-color: var(--hover-bg-color);\n",
              "    box-shadow: 0 1px 2px rgba(60, 64, 67, 0.3), 0 1px 3px 1px rgba(60, 64, 67, 0.15);\n",
              "    fill: var(--button-hover-fill-color);\n",
              "  }\n",
              "\n",
              "  .colab-df-quickchart-complete:disabled,\n",
              "  .colab-df-quickchart-complete:disabled:hover {\n",
              "    background-color: var(--disabled-bg-color);\n",
              "    fill: var(--disabled-fill-color);\n",
              "    box-shadow: none;\n",
              "  }\n",
              "\n",
              "  .colab-df-spinner {\n",
              "    border: 2px solid var(--fill-color);\n",
              "    border-color: transparent;\n",
              "    border-bottom-color: var(--fill-color);\n",
              "    animation:\n",
              "      spin 1s steps(1) infinite;\n",
              "  }\n",
              "\n",
              "  @keyframes spin {\n",
              "    0% {\n",
              "      border-color: transparent;\n",
              "      border-bottom-color: var(--fill-color);\n",
              "      border-left-color: var(--fill-color);\n",
              "    }\n",
              "    20% {\n",
              "      border-color: transparent;\n",
              "      border-left-color: var(--fill-color);\n",
              "      border-top-color: var(--fill-color);\n",
              "    }\n",
              "    30% {\n",
              "      border-color: transparent;\n",
              "      border-left-color: var(--fill-color);\n",
              "      border-top-color: var(--fill-color);\n",
              "      border-right-color: var(--fill-color);\n",
              "    }\n",
              "    40% {\n",
              "      border-color: transparent;\n",
              "      border-right-color: var(--fill-color);\n",
              "      border-top-color: var(--fill-color);\n",
              "    }\n",
              "    60% {\n",
              "      border-color: transparent;\n",
              "      border-right-color: var(--fill-color);\n",
              "    }\n",
              "    80% {\n",
              "      border-color: transparent;\n",
              "      border-right-color: var(--fill-color);\n",
              "      border-bottom-color: var(--fill-color);\n",
              "    }\n",
              "    90% {\n",
              "      border-color: transparent;\n",
              "      border-bottom-color: var(--fill-color);\n",
              "    }\n",
              "  }\n",
              "</style>\n",
              "\n",
              "  <script>\n",
              "    async function quickchart(key) {\n",
              "      const quickchartButtonEl =\n",
              "        document.querySelector('#' + key + ' button');\n",
              "      quickchartButtonEl.disabled = true;  // To prevent multiple clicks.\n",
              "      quickchartButtonEl.classList.add('colab-df-spinner');\n",
              "      try {\n",
              "        const charts = await google.colab.kernel.invokeFunction(\n",
              "            'suggestCharts', [key], {});\n",
              "      } catch (error) {\n",
              "        console.error('Error during call to suggestCharts:', error);\n",
              "      }\n",
              "      quickchartButtonEl.classList.remove('colab-df-spinner');\n",
              "      quickchartButtonEl.classList.add('colab-df-quickchart-complete');\n",
              "    }\n",
              "    (() => {\n",
              "      let quickchartButtonEl =\n",
              "        document.querySelector('#df-e233c345-543d-45ce-a519-e8a9afb46b47 button');\n",
              "      quickchartButtonEl.style.display =\n",
              "        google.colab.kernel.accessAllowed ? 'block' : 'none';\n",
              "    })();\n",
              "  </script>\n",
              "</div>\n",
              "\n",
              "    </div>\n",
              "  </div>\n"
            ]
          },
          "metadata": {},
          "execution_count": 1213
        }
      ]
    },
    {
      "cell_type": "code",
      "source": [
        "# Load the test dataset\n",
        "test_df = pd.read_csv('test-data.csv')\n",
        "# Extract the car brand from the 'Name' column\n",
        "test_df['Car_Brand'] = test_df['Name'].apply(lambda x: x.split(' ')[0])\n",
        "test_df['Car_Brand'] = test_df['Car_Brand'].astype('category')\n",
        "test_df['Fuel_Type'] = test_df['Fuel_Type'].astype('category')\n",
        "# Explore the test dataset\n",
        "print(test_df.info())\n",
        "test_df.head()"
      ],
      "metadata": {
        "colab": {
          "base_uri": "https://localhost:8080/",
          "height": 588
        },
        "id": "wg483oLr_aV5",
        "outputId": "c40d8cf5-c9a2-431d-ffe5-595289e1ad4e"
      },
      "execution_count": null,
      "outputs": [
        {
          "output_type": "stream",
          "name": "stdout",
          "text": [
            "<class 'pandas.core.frame.DataFrame'>\n",
            "RangeIndex: 1234 entries, 0 to 1233\n",
            "Data columns (total 14 columns):\n",
            " #   Column             Non-Null Count  Dtype   \n",
            "---  ------             --------------  -----   \n",
            " 0   Unnamed: 0         1234 non-null   int64   \n",
            " 1   Name               1234 non-null   object  \n",
            " 2   Location           1234 non-null   object  \n",
            " 3   Year               1234 non-null   int64   \n",
            " 4   Kilometers_Driven  1234 non-null   int64   \n",
            " 5   Fuel_Type          1234 non-null   category\n",
            " 6   Transmission       1234 non-null   object  \n",
            " 7   Owner_Type         1234 non-null   object  \n",
            " 8   Mileage            1234 non-null   object  \n",
            " 9   Engine             1224 non-null   object  \n",
            " 10  Power              1224 non-null   object  \n",
            " 11  Seats              1223 non-null   float64 \n",
            " 12  New_Price          182 non-null    object  \n",
            " 13  Car_Brand          1234 non-null   category\n",
            "dtypes: category(2), float64(1), int64(3), object(8)\n",
            "memory usage: 119.7+ KB\n",
            "None\n"
          ]
        },
        {
          "output_type": "execute_result",
          "data": {
            "text/plain": [
              "   Unnamed: 0                                       Name    Location  Year  \\\n",
              "0           0                    Maruti Alto K10 LXI CNG       Delhi  2014   \n",
              "1           1              Maruti Alto 800 2016-2019 LXI  Coimbatore  2013   \n",
              "2           2  Toyota Innova Crysta Touring Sport 2.4 MT      Mumbai  2017   \n",
              "3           3                       Toyota Etios Liva GD   Hyderabad  2012   \n",
              "4           4                          Hyundai i20 Magna      Mumbai  2014   \n",
              "\n",
              "   Kilometers_Driven Fuel_Type Transmission Owner_Type      Mileage   Engine  \\\n",
              "0              40929       CNG       Manual      First  32.26 km/kg   998 CC   \n",
              "1              54493    Petrol       Manual     Second    24.7 kmpl   796 CC   \n",
              "2              34000    Diesel       Manual      First   13.68 kmpl  2393 CC   \n",
              "3             139000    Diesel       Manual      First   23.59 kmpl  1364 CC   \n",
              "4              29000    Petrol       Manual      First    18.5 kmpl  1197 CC   \n",
              "\n",
              "       Power  Seats   New_Price Car_Brand  \n",
              "0   58.2 bhp    4.0         NaN    Maruti  \n",
              "1   47.3 bhp    5.0         NaN    Maruti  \n",
              "2  147.8 bhp    7.0  25.27 Lakh    Toyota  \n",
              "3   null bhp    5.0         NaN    Toyota  \n",
              "4  82.85 bhp    5.0         NaN   Hyundai  "
            ],
            "text/html": [
              "\n",
              "  <div id=\"df-bf909635-6448-4dbf-a497-c7079b2e72c4\" class=\"colab-df-container\">\n",
              "    <div>\n",
              "<style scoped>\n",
              "    .dataframe tbody tr th:only-of-type {\n",
              "        vertical-align: middle;\n",
              "    }\n",
              "\n",
              "    .dataframe tbody tr th {\n",
              "        vertical-align: top;\n",
              "    }\n",
              "\n",
              "    .dataframe thead th {\n",
              "        text-align: right;\n",
              "    }\n",
              "</style>\n",
              "<table border=\"1\" class=\"dataframe\">\n",
              "  <thead>\n",
              "    <tr style=\"text-align: right;\">\n",
              "      <th></th>\n",
              "      <th>Unnamed: 0</th>\n",
              "      <th>Name</th>\n",
              "      <th>Location</th>\n",
              "      <th>Year</th>\n",
              "      <th>Kilometers_Driven</th>\n",
              "      <th>Fuel_Type</th>\n",
              "      <th>Transmission</th>\n",
              "      <th>Owner_Type</th>\n",
              "      <th>Mileage</th>\n",
              "      <th>Engine</th>\n",
              "      <th>Power</th>\n",
              "      <th>Seats</th>\n",
              "      <th>New_Price</th>\n",
              "      <th>Car_Brand</th>\n",
              "    </tr>\n",
              "  </thead>\n",
              "  <tbody>\n",
              "    <tr>\n",
              "      <th>0</th>\n",
              "      <td>0</td>\n",
              "      <td>Maruti Alto K10 LXI CNG</td>\n",
              "      <td>Delhi</td>\n",
              "      <td>2014</td>\n",
              "      <td>40929</td>\n",
              "      <td>CNG</td>\n",
              "      <td>Manual</td>\n",
              "      <td>First</td>\n",
              "      <td>32.26 km/kg</td>\n",
              "      <td>998 CC</td>\n",
              "      <td>58.2 bhp</td>\n",
              "      <td>4.0</td>\n",
              "      <td>NaN</td>\n",
              "      <td>Maruti</td>\n",
              "    </tr>\n",
              "    <tr>\n",
              "      <th>1</th>\n",
              "      <td>1</td>\n",
              "      <td>Maruti Alto 800 2016-2019 LXI</td>\n",
              "      <td>Coimbatore</td>\n",
              "      <td>2013</td>\n",
              "      <td>54493</td>\n",
              "      <td>Petrol</td>\n",
              "      <td>Manual</td>\n",
              "      <td>Second</td>\n",
              "      <td>24.7 kmpl</td>\n",
              "      <td>796 CC</td>\n",
              "      <td>47.3 bhp</td>\n",
              "      <td>5.0</td>\n",
              "      <td>NaN</td>\n",
              "      <td>Maruti</td>\n",
              "    </tr>\n",
              "    <tr>\n",
              "      <th>2</th>\n",
              "      <td>2</td>\n",
              "      <td>Toyota Innova Crysta Touring Sport 2.4 MT</td>\n",
              "      <td>Mumbai</td>\n",
              "      <td>2017</td>\n",
              "      <td>34000</td>\n",
              "      <td>Diesel</td>\n",
              "      <td>Manual</td>\n",
              "      <td>First</td>\n",
              "      <td>13.68 kmpl</td>\n",
              "      <td>2393 CC</td>\n",
              "      <td>147.8 bhp</td>\n",
              "      <td>7.0</td>\n",
              "      <td>25.27 Lakh</td>\n",
              "      <td>Toyota</td>\n",
              "    </tr>\n",
              "    <tr>\n",
              "      <th>3</th>\n",
              "      <td>3</td>\n",
              "      <td>Toyota Etios Liva GD</td>\n",
              "      <td>Hyderabad</td>\n",
              "      <td>2012</td>\n",
              "      <td>139000</td>\n",
              "      <td>Diesel</td>\n",
              "      <td>Manual</td>\n",
              "      <td>First</td>\n",
              "      <td>23.59 kmpl</td>\n",
              "      <td>1364 CC</td>\n",
              "      <td>null bhp</td>\n",
              "      <td>5.0</td>\n",
              "      <td>NaN</td>\n",
              "      <td>Toyota</td>\n",
              "    </tr>\n",
              "    <tr>\n",
              "      <th>4</th>\n",
              "      <td>4</td>\n",
              "      <td>Hyundai i20 Magna</td>\n",
              "      <td>Mumbai</td>\n",
              "      <td>2014</td>\n",
              "      <td>29000</td>\n",
              "      <td>Petrol</td>\n",
              "      <td>Manual</td>\n",
              "      <td>First</td>\n",
              "      <td>18.5 kmpl</td>\n",
              "      <td>1197 CC</td>\n",
              "      <td>82.85 bhp</td>\n",
              "      <td>5.0</td>\n",
              "      <td>NaN</td>\n",
              "      <td>Hyundai</td>\n",
              "    </tr>\n",
              "  </tbody>\n",
              "</table>\n",
              "</div>\n",
              "    <div class=\"colab-df-buttons\">\n",
              "\n",
              "  <div class=\"colab-df-container\">\n",
              "    <button class=\"colab-df-convert\" onclick=\"convertToInteractive('df-bf909635-6448-4dbf-a497-c7079b2e72c4')\"\n",
              "            title=\"Convert this dataframe to an interactive table.\"\n",
              "            style=\"display:none;\">\n",
              "\n",
              "  <svg xmlns=\"http://www.w3.org/2000/svg\" height=\"24px\" viewBox=\"0 -960 960 960\">\n",
              "    <path d=\"M120-120v-720h720v720H120Zm60-500h600v-160H180v160Zm220 220h160v-160H400v160Zm0 220h160v-160H400v160ZM180-400h160v-160H180v160Zm440 0h160v-160H620v160ZM180-180h160v-160H180v160Zm440 0h160v-160H620v160Z\"/>\n",
              "  </svg>\n",
              "    </button>\n",
              "\n",
              "  <style>\n",
              "    .colab-df-container {\n",
              "      display:flex;\n",
              "      gap: 12px;\n",
              "    }\n",
              "\n",
              "    .colab-df-convert {\n",
              "      background-color: #E8F0FE;\n",
              "      border: none;\n",
              "      border-radius: 50%;\n",
              "      cursor: pointer;\n",
              "      display: none;\n",
              "      fill: #1967D2;\n",
              "      height: 32px;\n",
              "      padding: 0 0 0 0;\n",
              "      width: 32px;\n",
              "    }\n",
              "\n",
              "    .colab-df-convert:hover {\n",
              "      background-color: #E2EBFA;\n",
              "      box-shadow: 0px 1px 2px rgba(60, 64, 67, 0.3), 0px 1px 3px 1px rgba(60, 64, 67, 0.15);\n",
              "      fill: #174EA6;\n",
              "    }\n",
              "\n",
              "    .colab-df-buttons div {\n",
              "      margin-bottom: 4px;\n",
              "    }\n",
              "\n",
              "    [theme=dark] .colab-df-convert {\n",
              "      background-color: #3B4455;\n",
              "      fill: #D2E3FC;\n",
              "    }\n",
              "\n",
              "    [theme=dark] .colab-df-convert:hover {\n",
              "      background-color: #434B5C;\n",
              "      box-shadow: 0px 1px 3px 1px rgba(0, 0, 0, 0.15);\n",
              "      filter: drop-shadow(0px 1px 2px rgba(0, 0, 0, 0.3));\n",
              "      fill: #FFFFFF;\n",
              "    }\n",
              "  </style>\n",
              "\n",
              "    <script>\n",
              "      const buttonEl =\n",
              "        document.querySelector('#df-bf909635-6448-4dbf-a497-c7079b2e72c4 button.colab-df-convert');\n",
              "      buttonEl.style.display =\n",
              "        google.colab.kernel.accessAllowed ? 'block' : 'none';\n",
              "\n",
              "      async function convertToInteractive(key) {\n",
              "        const element = document.querySelector('#df-bf909635-6448-4dbf-a497-c7079b2e72c4');\n",
              "        const dataTable =\n",
              "          await google.colab.kernel.invokeFunction('convertToInteractive',\n",
              "                                                    [key], {});\n",
              "        if (!dataTable) return;\n",
              "\n",
              "        const docLinkHtml = 'Like what you see? Visit the ' +\n",
              "          '<a target=\"_blank\" href=https://colab.research.google.com/notebooks/data_table.ipynb>data table notebook</a>'\n",
              "          + ' to learn more about interactive tables.';\n",
              "        element.innerHTML = '';\n",
              "        dataTable['output_type'] = 'display_data';\n",
              "        await google.colab.output.renderOutput(dataTable, element);\n",
              "        const docLink = document.createElement('div');\n",
              "        docLink.innerHTML = docLinkHtml;\n",
              "        element.appendChild(docLink);\n",
              "      }\n",
              "    </script>\n",
              "  </div>\n",
              "\n",
              "\n",
              "<div id=\"df-e523cbf3-d68a-412c-bb5c-c89d11b58b8a\">\n",
              "  <button class=\"colab-df-quickchart\" onclick=\"quickchart('df-e523cbf3-d68a-412c-bb5c-c89d11b58b8a')\"\n",
              "            title=\"Suggest charts\"\n",
              "            style=\"display:none;\">\n",
              "\n",
              "<svg xmlns=\"http://www.w3.org/2000/svg\" height=\"24px\"viewBox=\"0 0 24 24\"\n",
              "     width=\"24px\">\n",
              "    <g>\n",
              "        <path d=\"M19 3H5c-1.1 0-2 .9-2 2v14c0 1.1.9 2 2 2h14c1.1 0 2-.9 2-2V5c0-1.1-.9-2-2-2zM9 17H7v-7h2v7zm4 0h-2V7h2v10zm4 0h-2v-4h2v4z\"/>\n",
              "    </g>\n",
              "</svg>\n",
              "  </button>\n",
              "\n",
              "<style>\n",
              "  .colab-df-quickchart {\n",
              "      --bg-color: #E8F0FE;\n",
              "      --fill-color: #1967D2;\n",
              "      --hover-bg-color: #E2EBFA;\n",
              "      --hover-fill-color: #174EA6;\n",
              "      --disabled-fill-color: #AAA;\n",
              "      --disabled-bg-color: #DDD;\n",
              "  }\n",
              "\n",
              "  [theme=dark] .colab-df-quickchart {\n",
              "      --bg-color: #3B4455;\n",
              "      --fill-color: #D2E3FC;\n",
              "      --hover-bg-color: #434B5C;\n",
              "      --hover-fill-color: #FFFFFF;\n",
              "      --disabled-bg-color: #3B4455;\n",
              "      --disabled-fill-color: #666;\n",
              "  }\n",
              "\n",
              "  .colab-df-quickchart {\n",
              "    background-color: var(--bg-color);\n",
              "    border: none;\n",
              "    border-radius: 50%;\n",
              "    cursor: pointer;\n",
              "    display: none;\n",
              "    fill: var(--fill-color);\n",
              "    height: 32px;\n",
              "    padding: 0;\n",
              "    width: 32px;\n",
              "  }\n",
              "\n",
              "  .colab-df-quickchart:hover {\n",
              "    background-color: var(--hover-bg-color);\n",
              "    box-shadow: 0 1px 2px rgba(60, 64, 67, 0.3), 0 1px 3px 1px rgba(60, 64, 67, 0.15);\n",
              "    fill: var(--button-hover-fill-color);\n",
              "  }\n",
              "\n",
              "  .colab-df-quickchart-complete:disabled,\n",
              "  .colab-df-quickchart-complete:disabled:hover {\n",
              "    background-color: var(--disabled-bg-color);\n",
              "    fill: var(--disabled-fill-color);\n",
              "    box-shadow: none;\n",
              "  }\n",
              "\n",
              "  .colab-df-spinner {\n",
              "    border: 2px solid var(--fill-color);\n",
              "    border-color: transparent;\n",
              "    border-bottom-color: var(--fill-color);\n",
              "    animation:\n",
              "      spin 1s steps(1) infinite;\n",
              "  }\n",
              "\n",
              "  @keyframes spin {\n",
              "    0% {\n",
              "      border-color: transparent;\n",
              "      border-bottom-color: var(--fill-color);\n",
              "      border-left-color: var(--fill-color);\n",
              "    }\n",
              "    20% {\n",
              "      border-color: transparent;\n",
              "      border-left-color: var(--fill-color);\n",
              "      border-top-color: var(--fill-color);\n",
              "    }\n",
              "    30% {\n",
              "      border-color: transparent;\n",
              "      border-left-color: var(--fill-color);\n",
              "      border-top-color: var(--fill-color);\n",
              "      border-right-color: var(--fill-color);\n",
              "    }\n",
              "    40% {\n",
              "      border-color: transparent;\n",
              "      border-right-color: var(--fill-color);\n",
              "      border-top-color: var(--fill-color);\n",
              "    }\n",
              "    60% {\n",
              "      border-color: transparent;\n",
              "      border-right-color: var(--fill-color);\n",
              "    }\n",
              "    80% {\n",
              "      border-color: transparent;\n",
              "      border-right-color: var(--fill-color);\n",
              "      border-bottom-color: var(--fill-color);\n",
              "    }\n",
              "    90% {\n",
              "      border-color: transparent;\n",
              "      border-bottom-color: var(--fill-color);\n",
              "    }\n",
              "  }\n",
              "</style>\n",
              "\n",
              "  <script>\n",
              "    async function quickchart(key) {\n",
              "      const quickchartButtonEl =\n",
              "        document.querySelector('#' + key + ' button');\n",
              "      quickchartButtonEl.disabled = true;  // To prevent multiple clicks.\n",
              "      quickchartButtonEl.classList.add('colab-df-spinner');\n",
              "      try {\n",
              "        const charts = await google.colab.kernel.invokeFunction(\n",
              "            'suggestCharts', [key], {});\n",
              "      } catch (error) {\n",
              "        console.error('Error during call to suggestCharts:', error);\n",
              "      }\n",
              "      quickchartButtonEl.classList.remove('colab-df-spinner');\n",
              "      quickchartButtonEl.classList.add('colab-df-quickchart-complete');\n",
              "    }\n",
              "    (() => {\n",
              "      let quickchartButtonEl =\n",
              "        document.querySelector('#df-e523cbf3-d68a-412c-bb5c-c89d11b58b8a button');\n",
              "      quickchartButtonEl.style.display =\n",
              "        google.colab.kernel.accessAllowed ? 'block' : 'none';\n",
              "    })();\n",
              "  </script>\n",
              "</div>\n",
              "\n",
              "    </div>\n",
              "  </div>\n"
            ]
          },
          "metadata": {},
          "execution_count": 1214
        }
      ]
    },
    {
      "cell_type": "code",
      "source": [
        "train_df.drop('S.No', axis=1, inplace=True)\n",
        "test_df.drop('Unnamed: 0', axis=1, inplace=True)"
      ],
      "metadata": {
        "id": "3zEw5IZq1l_V"
      },
      "execution_count": null,
      "outputs": []
    },
    {
      "cell_type": "code",
      "source": [
        "train_df.isnull().sum()"
      ],
      "metadata": {
        "colab": {
          "base_uri": "https://localhost:8080/"
        },
        "id": "m3-6y9XT5ecU",
        "outputId": "02dea472-7d9e-4b25-bdb3-d3dc0bb09b36"
      },
      "execution_count": null,
      "outputs": [
        {
          "output_type": "execute_result",
          "data": {
            "text/plain": [
              "Name                    0\n",
              "Location                0\n",
              "Year                    0\n",
              "Kilometers_Driven       0\n",
              "Fuel_Type               0\n",
              "Transmission            0\n",
              "Owner_Type              0\n",
              "Mileage                 0\n",
              "Engine                 36\n",
              "Power                  36\n",
              "Seats                  42\n",
              "New_Price            5195\n",
              "Price                   0\n",
              "Car_Brand               0\n",
              "dtype: int64"
            ]
          },
          "metadata": {},
          "execution_count": 1216
        }
      ]
    },
    {
      "cell_type": "code",
      "source": [
        "test_df.isnull().sum()"
      ],
      "metadata": {
        "colab": {
          "base_uri": "https://localhost:8080/"
        },
        "id": "7dR1N4Dk_UHp",
        "outputId": "6691c4b4-d92a-4287-f625-3ad49362a5ee"
      },
      "execution_count": null,
      "outputs": [
        {
          "output_type": "execute_result",
          "data": {
            "text/plain": [
              "Name                    0\n",
              "Location                0\n",
              "Year                    0\n",
              "Kilometers_Driven       0\n",
              "Fuel_Type               0\n",
              "Transmission            0\n",
              "Owner_Type              0\n",
              "Mileage                 0\n",
              "Engine                 10\n",
              "Power                  10\n",
              "Seats                  11\n",
              "New_Price            1052\n",
              "Car_Brand               0\n",
              "dtype: int64"
            ]
          },
          "metadata": {},
          "execution_count": 1217
        }
      ]
    },
    {
      "cell_type": "code",
      "source": [
        "kmkg = 0\n",
        "kmpl = 0\n",
        "for i in train_df.Mileage:\n",
        "    if str(i).endswith(\"km/kg\"):\n",
        "        kmkg+=1\n",
        "    elif str(i).endswith(\"kmpl\"):\n",
        "        kmpl+=1\n",
        "print('The number of rows with Km/Kg : {} '.format(kmkg))\n",
        "print('The number of rows with Km/Kg : {} '.format(kmpl))"
      ],
      "metadata": {
        "colab": {
          "base_uri": "https://localhost:8080/"
        },
        "id": "1T9t4mXb8gQH",
        "outputId": "7a76ba2e-ab36-4ec7-9691-4562dc50b49d"
      },
      "execution_count": null,
      "outputs": [
        {
          "output_type": "stream",
          "name": "stdout",
          "text": [
            "The number of rows with Km/Kg : 66 \n",
            "The number of rows with Km/Kg : 5953 \n"
          ]
        }
      ]
    },
    {
      "cell_type": "code",
      "source": [
        "# Convert 'Mileage' column to numeric format\n",
        "train_df['Mileage'] = pd.to_numeric(train_df['Mileage'].str.extract('(\\d+)', expand=False), errors='coerce')\n",
        "\n",
        "# Define a function to standardize the Mileage column\n",
        "def standardize_mileage(row):\n",
        "    try:\n",
        "        mileage_value = row['Mileage']\n",
        "\n",
        "        if pd.notna(mileage_value):\n",
        "            if row['Fuel_Type'] == 'CNG':\n",
        "                # Convert CNG mileage to equivalent petrol mileage\n",
        "                return mileage_value * 1.7\n",
        "            elif row['Fuel_Type'] == 'LPG':\n",
        "                # Convert LPG mileage to equivalent petrol mileage\n",
        "                return mileage_value * 0.9\n",
        "            else:\n",
        "                # Petrol and Diesel already in kmpl\n",
        "                return mileage_value\n",
        "        else:\n",
        "            return None\n",
        "    except (ValueError, AttributeError):\n",
        "        # Handle cases where Mileage value is not a valid number\n",
        "        return None\n",
        "\n",
        "# Apply the function to standardize the Mileage column\n",
        "train_df['Standardized_Mileage'] = train_df.apply(standardize_mileage, axis=1)\n",
        "\n",
        "# Display the updated DataFrame\n",
        "print(train_df[['Fuel_Type', 'Mileage', 'Standardized_Mileage']])\n"
      ],
      "metadata": {
        "colab": {
          "base_uri": "https://localhost:8080/"
        },
        "id": "ShtOPH5CM80v",
        "outputId": "3dca35af-2e46-4064-f788-2f14790d8baf"
      },
      "execution_count": null,
      "outputs": [
        {
          "output_type": "stream",
          "name": "stdout",
          "text": [
            "     Fuel_Type  Mileage  Standardized_Mileage\n",
            "0       Petrol        9                   9.0\n",
            "1       Petrol        9                   9.0\n",
            "2       Diesel        9                   9.0\n",
            "3       Petrol        9                   9.0\n",
            "4       Petrol        9                   9.0\n",
            "...        ...      ...                   ...\n",
            "6014    Diesel        0                   0.0\n",
            "6015    Petrol        0                   0.0\n",
            "6016    Petrol        0                   0.0\n",
            "6017  Electric       23                  23.0\n",
            "6018  Electric       58                  58.0\n",
            "\n",
            "[6019 rows x 3 columns]\n"
          ]
        }
      ]
    },
    {
      "cell_type": "code",
      "source": [
        "# Convert 'Mileage' column to numeric format\n",
        "test_df['Mileage'] = pd.to_numeric(test_df['Mileage'].str.extract('(\\d+)', expand=False), errors='coerce')\n",
        "\n",
        "# Define a function to standardize the Mileage column\n",
        "def standardize_mileage(row):\n",
        "    try:\n",
        "        mileage_value = row['Mileage']\n",
        "\n",
        "        if pd.notna(mileage_value):\n",
        "            if row['Fuel_Type'] == 'CNG':\n",
        "                # Convert CNG mileage to equivalent petrol mileage\n",
        "                return mileage_value * 1.7\n",
        "            elif row['Fuel_Type'] == 'LPG':\n",
        "                # Convert LPG mileage to equivalent petrol mileage\n",
        "                return mileage_value * 0.9\n",
        "            else:\n",
        "                # Petrol and Diesel already in kmpl\n",
        "                return mileage_value\n",
        "        else:\n",
        "            return None\n",
        "    except (ValueError, AttributeError):\n",
        "        # Handle cases where Mileage value is not a valid number\n",
        "        return None\n",
        "\n",
        "# Apply the function to standardize the Mileage column\n",
        "test_df['Standardized_Mileage'] = test_df.apply(standardize_mileage, axis=1)\n",
        "\n",
        "# Display the updated DataFrame\n",
        "print(test_df[['Fuel_Type', 'Mileage', 'Standardized_Mileage']])\n"
      ],
      "metadata": {
        "colab": {
          "base_uri": "https://localhost:8080/"
        },
        "id": "p_nXeI31cZc7",
        "outputId": "9094e503-0b9c-43b8-c83f-ba10a1687f88"
      },
      "execution_count": null,
      "outputs": [
        {
          "output_type": "stream",
          "name": "stdout",
          "text": [
            "     Fuel_Type  Mileage  Standardized_Mileage\n",
            "0          CNG       32                  54.4\n",
            "1       Petrol       24                  24.0\n",
            "2       Diesel       13                  13.0\n",
            "3       Diesel       23                  23.0\n",
            "4       Petrol       18                  18.0\n",
            "...        ...      ...                   ...\n",
            "1229    Diesel       20                  20.0\n",
            "1230    Petrol       17                  17.0\n",
            "1231    Diesel       23                  23.0\n",
            "1232    Petrol       17                  17.0\n",
            "1233    Diesel       10                  10.0\n",
            "\n",
            "[1234 rows x 3 columns]\n"
          ]
        }
      ]
    },
    {
      "cell_type": "code",
      "source": [
        "zero_mileage_rows = train_df[train_df['Mileage'] == 0]\n",
        "print(zero_mileage_rows[['Name','Fuel_Type', 'Mileage']])"
      ],
      "metadata": {
        "colab": {
          "base_uri": "https://localhost:8080/"
        },
        "id": "9sxRsmmVQtkG",
        "outputId": "3de0f408-49c8-4141-c2e8-6077f283ebb6"
      },
      "execution_count": null,
      "outputs": [
        {
          "output_type": "stream",
          "name": "stdout",
          "text": [
            "                                          Name Fuel_Type  Mileage\n",
            "5949            Land Rover Freelander 2 TD4 SE    Diesel        0\n",
            "5950  Mercedes-Benz C-Class Progressive C 220d    Diesel        0\n",
            "5951                    Hyundai Santro Xing XL    Petrol        0\n",
            "5952                        Honda City 1.5 GXI    Petrol        0\n",
            "5953                          Ford Figo Diesel    Diesel        0\n",
            "...                                        ...       ...      ...\n",
            "6012                    Toyota Qualis Fleet A3    Diesel        0\n",
            "6013  Mercedes-Benz C-Class Progressive C 220d    Diesel        0\n",
            "6014                   Mahindra Jeep MM 540 DP    Diesel        0\n",
            "6015                    Hyundai Santro Xing GL    Petrol        0\n",
            "6016                   Skoda Superb 3.6 V6 FSI    Petrol        0\n",
            "\n",
            "[68 rows x 3 columns]\n"
          ]
        }
      ]
    },
    {
      "cell_type": "code",
      "source": [
        "# Convert 'Mileage' column to numeric format\n",
        "train_df['Mileage'] = pd.to_numeric(train_df['Mileage'], errors='coerce')\n",
        "\n",
        "# Display the updated DataFrame\n",
        "print(train_df[['Fuel_Type', 'Mileage']])"
      ],
      "metadata": {
        "colab": {
          "base_uri": "https://localhost:8080/"
        },
        "id": "L3mL1db5XlW-",
        "outputId": "c418e3f6-67d8-41d6-e126-3e62b81967ca"
      },
      "execution_count": null,
      "outputs": [
        {
          "output_type": "stream",
          "name": "stdout",
          "text": [
            "     Fuel_Type  Mileage\n",
            "0       Petrol        9\n",
            "1       Petrol        9\n",
            "2       Diesel        9\n",
            "3       Petrol        9\n",
            "4       Petrol        9\n",
            "...        ...      ...\n",
            "6014    Diesel        0\n",
            "6015    Petrol        0\n",
            "6016    Petrol        0\n",
            "6017  Electric       23\n",
            "6018  Electric       58\n",
            "\n",
            "[6019 rows x 2 columns]\n"
          ]
        }
      ]
    },
    {
      "cell_type": "code",
      "source": [
        "# Calculate the average mileage for each car brand\n",
        "average_mileage_by_brand = train_df.groupby('Car_Brand')['Mileage'].mean()\n",
        "# Replace 0 values in 'Mileage' with the average mileage of the corresponding car brand\n",
        "train_df['Mileage'] = train_df.apply(lambda row: average_mileage_by_brand[row['Car_Brand']] if row['Mileage'] == 0 else row['Mileage'], axis=1)\n",
        "\n",
        "# Calculate the average mileage for each car brand in the test_df DataFrame\n",
        "average_mileage_by_brand_test = test_df.groupby('Car_Brand')['Mileage'].mean()\n",
        "\n",
        "# Replace 0 values in 'Mileage' with the average mileage of the corresponding car brand\n",
        "test_df['Mileage'] = test_df.apply(lambda row: average_mileage_by_brand_test[row['Car_Brand']] if row['Mileage'] == 0 else row['Mileage'], axis=1)\n"
      ],
      "metadata": {
        "id": "HeFbrjvydVLj"
      },
      "execution_count": null,
      "outputs": []
    },
    {
      "cell_type": "code",
      "source": [
        "train_df.isnull().sum()"
      ],
      "metadata": {
        "colab": {
          "base_uri": "https://localhost:8080/"
        },
        "id": "nP-Dat90QN4m",
        "outputId": "6a49f709-ffb5-455c-e932-c6c08af6d083"
      },
      "execution_count": null,
      "outputs": [
        {
          "output_type": "execute_result",
          "data": {
            "text/plain": [
              "Name                       0\n",
              "Location                   0\n",
              "Year                       0\n",
              "Kilometers_Driven          0\n",
              "Fuel_Type                  0\n",
              "Transmission               0\n",
              "Owner_Type                 0\n",
              "Mileage                    0\n",
              "Engine                    36\n",
              "Power                     36\n",
              "Seats                     42\n",
              "New_Price               5195\n",
              "Price                      0\n",
              "Car_Brand                  0\n",
              "Standardized_Mileage       0\n",
              "dtype: int64"
            ]
          },
          "metadata": {},
          "execution_count": 1224
        }
      ]
    },
    {
      "cell_type": "code",
      "source": [
        "test_df.isnull().sum()"
      ],
      "metadata": {
        "colab": {
          "base_uri": "https://localhost:8080/"
        },
        "id": "FUdip4K5WNW4",
        "outputId": "2f3a77e1-caf8-4cf6-ec01-24c43840a78a"
      },
      "execution_count": null,
      "outputs": [
        {
          "output_type": "execute_result",
          "data": {
            "text/plain": [
              "Name                       0\n",
              "Location                   0\n",
              "Year                       0\n",
              "Kilometers_Driven          0\n",
              "Fuel_Type                  0\n",
              "Transmission               0\n",
              "Owner_Type                 0\n",
              "Mileage                    0\n",
              "Engine                    10\n",
              "Power                     10\n",
              "Seats                     11\n",
              "New_Price               1052\n",
              "Car_Brand                  0\n",
              "Standardized_Mileage       0\n",
              "dtype: int64"
            ]
          },
          "metadata": {},
          "execution_count": 1225
        }
      ]
    },
    {
      "cell_type": "code",
      "source": [
        "train_df= train_df.drop('New_Price', axis=1)\n",
        "test_df= test_df.drop('New_Price', axis=1)"
      ],
      "metadata": {
        "id": "4GJ4-j46VL-F"
      },
      "execution_count": null,
      "outputs": []
    },
    {
      "cell_type": "code",
      "source": [
        "train_df = train_df.dropna(how='any')\n",
        "testdf = test_df.dropna(how='any')"
      ],
      "metadata": {
        "id": "oEcAtMYiVztq"
      },
      "execution_count": null,
      "outputs": []
    },
    {
      "cell_type": "code",
      "source": [
        "train_df.info()"
      ],
      "metadata": {
        "colab": {
          "base_uri": "https://localhost:8080/"
        },
        "id": "DaH_qgutWpVu",
        "outputId": "93137184-aecd-442b-a544-82e5890b4c84"
      },
      "execution_count": null,
      "outputs": [
        {
          "output_type": "stream",
          "name": "stdout",
          "text": [
            "<class 'pandas.core.frame.DataFrame'>\n",
            "Int64Index: 5977 entries, 0 to 6018\n",
            "Data columns (total 14 columns):\n",
            " #   Column                Non-Null Count  Dtype   \n",
            "---  ------                --------------  -----   \n",
            " 0   Name                  5977 non-null   object  \n",
            " 1   Location              5977 non-null   object  \n",
            " 2   Year                  5977 non-null   int64   \n",
            " 3   Kilometers_Driven     5977 non-null   int64   \n",
            " 4   Fuel_Type             5977 non-null   category\n",
            " 5   Transmission          5977 non-null   object  \n",
            " 6   Owner_Type            5977 non-null   object  \n",
            " 7   Mileage               5977 non-null   float64 \n",
            " 8   Engine                5977 non-null   object  \n",
            " 9   Power                 5977 non-null   object  \n",
            " 10  Seats                 5977 non-null   float64 \n",
            " 11  Price                 5977 non-null   float64 \n",
            " 12  Car_Brand             5977 non-null   category\n",
            " 13  Standardized_Mileage  5977 non-null   float64 \n",
            "dtypes: category(2), float64(4), int64(2), object(6)\n",
            "memory usage: 620.2+ KB\n"
          ]
        }
      ]
    },
    {
      "cell_type": "code",
      "source": [
        "test_df.info()"
      ],
      "metadata": {
        "colab": {
          "base_uri": "https://localhost:8080/"
        },
        "id": "ia2EK0P-WtO1",
        "outputId": "b9d2ba64-abee-4299-d3ab-4964cb7e09f6"
      },
      "execution_count": null,
      "outputs": [
        {
          "output_type": "stream",
          "name": "stdout",
          "text": [
            "<class 'pandas.core.frame.DataFrame'>\n",
            "RangeIndex: 1234 entries, 0 to 1233\n",
            "Data columns (total 13 columns):\n",
            " #   Column                Non-Null Count  Dtype   \n",
            "---  ------                --------------  -----   \n",
            " 0   Name                  1234 non-null   object  \n",
            " 1   Location              1234 non-null   object  \n",
            " 2   Year                  1234 non-null   int64   \n",
            " 3   Kilometers_Driven     1234 non-null   int64   \n",
            " 4   Fuel_Type             1234 non-null   category\n",
            " 5   Transmission          1234 non-null   object  \n",
            " 6   Owner_Type            1234 non-null   object  \n",
            " 7   Mileage               1234 non-null   float64 \n",
            " 8   Engine                1224 non-null   object  \n",
            " 9   Power                 1224 non-null   object  \n",
            " 10  Seats                 1223 non-null   float64 \n",
            " 11  Car_Brand             1234 non-null   category\n",
            " 12  Standardized_Mileage  1234 non-null   float64 \n",
            "dtypes: category(2), float64(3), int64(2), object(6)\n",
            "memory usage: 110.1+ KB\n"
          ]
        }
      ]
    },
    {
      "cell_type": "code",
      "source": [
        "test_df['Engine'] = test_df['Engine'].str.replace(' CC', '')\n",
        "train_df['Engine'] = train_df['Engine'].str.replace(' CC', '')\n",
        "# Convert 'Engine' column to numeric format\n",
        "train_df['Engine'] = pd.to_numeric(train_df['Engine'], errors='coerce')\n",
        "test_df['Engine'] = pd.to_numeric(test_df['Engine'], errors='coerce')"
      ],
      "metadata": {
        "id": "3jG4m_9YWwj6"
      },
      "execution_count": null,
      "outputs": []
    },
    {
      "cell_type": "code",
      "source": [
        "train_df['Power']"
      ],
      "metadata": {
        "colab": {
          "base_uri": "https://localhost:8080/"
        },
        "id": "j2qpP0MEzjfk",
        "outputId": "28a39f11-5be2-4d89-c5f6-9fe8521c14ed"
      },
      "execution_count": null,
      "outputs": [
        {
          "output_type": "execute_result",
          "data": {
            "text/plain": [
              "0        207.8 bhp\n",
              "1        207.8 bhp\n",
              "2       271.72 bhp\n",
              "3          180 bhp\n",
              "4          180 bhp\n",
              "           ...    \n",
              "6014      null bhp\n",
              "6015        62 bhp\n",
              "6016     262.6 bhp\n",
              "6017        73 bhp\n",
              "6018        41 bhp\n",
              "Name: Power, Length: 5977, dtype: object"
            ]
          },
          "metadata": {},
          "execution_count": 1231
        }
      ]
    },
    {
      "cell_type": "code",
      "source": [
        "# Convert 'Power' column to numeric format\n",
        "train_df['Power'] = pd.to_numeric(train_df['Power'].str.extract('(\\d+)', expand=False), errors='coerce')\n",
        "# Convert 'Power' column to numeric format\n",
        "test_df['Power'] = pd.to_numeric(test_df['Power'].str.extract('(\\d+)', expand=False), errors='coerce')"
      ],
      "metadata": {
        "id": "B1silPVzavwB"
      },
      "execution_count": null,
      "outputs": []
    },
    {
      "cell_type": "code",
      "source": [
        "# Calculate the average power for each car brand\n",
        "average_power_by_brand = train_df.groupby('Car_Brand')['Power'].mean()\n",
        "average_power_by_brand = test_df.groupby('Car_Brand')['Power'].mean()"
      ],
      "metadata": {
        "id": "i0yInXQYYlGh"
      },
      "execution_count": null,
      "outputs": []
    },
    {
      "cell_type": "code",
      "source": [
        "# Assuming 'average_power_by_brand' is your dictionary containing average power values by brand\n",
        "# Replace 'average_power_by_brand' with your actual dictionary name\n",
        "\n",
        "# Replace 'null bhp' values in 'Power' with the average power of the corresponding car brand\n",
        "def replace_null_power(row):\n",
        "    brand = row['Car_Brand']\n",
        "    return average_power_by_brand.get(brand, row['Power'])\n",
        "\n",
        "train_df['Power'] = train_df.apply(replace_null_power, axis=1)\n",
        "test_df['Power'] = test_df.apply(replace_null_power, axis=1)\n",
        "\n",
        "# Display the updated DataFrame\n",
        "print(train_df[['Name', 'Power']])\n"
      ],
      "metadata": {
        "colab": {
          "base_uri": "https://localhost:8080/"
        },
        "id": "ul6EQRMQAmYy",
        "outputId": "395587b5-082c-467c-e657-4b9cd6cc204d"
      },
      "execution_count": null,
      "outputs": [
        {
          "output_type": "stream",
          "name": "stdout",
          "text": [
            "                                           Name       Power\n",
            "0                              Audi TT 2.0 TFSI  175.714286\n",
            "1                              Audi TT 2.0 TFSI  175.714286\n",
            "2     Mercedes-Benz CLS-Class 2006-2010 350 CDI  193.629032\n",
            "3                  Honda Accord 2.4 Inspire M/T  107.622222\n",
            "4                  Honda Accord 2.4 Inspire M/T  107.622222\n",
            "...                                         ...         ...\n",
            "6014                    Mahindra Jeep MM 540 DP  111.017241\n",
            "6015                     Hyundai Santro Xing GL   91.438053\n",
            "6016                    Skoda Superb 3.6 V6 FSI  125.535714\n",
            "6017                  Toyota Prius 2009-2016 Z4  124.724138\n",
            "6018                       Mahindra E Verito D4  111.017241\n",
            "\n",
            "[5977 rows x 2 columns]\n"
          ]
        }
      ]
    },
    {
      "cell_type": "code",
      "source": [
        "train_df = train_df.dropna(how='any')\n",
        "testdf = test_df.dropna(how='any')"
      ],
      "metadata": {
        "id": "SdlbzkDL0dAe"
      },
      "execution_count": null,
      "outputs": []
    },
    {
      "cell_type": "code",
      "source": [
        "train_df.info()"
      ],
      "metadata": {
        "colab": {
          "base_uri": "https://localhost:8080/"
        },
        "id": "7XuFDioxacxn",
        "outputId": "394ddd96-c276-4360-fbe9-827223940f83"
      },
      "execution_count": null,
      "outputs": [
        {
          "output_type": "stream",
          "name": "stdout",
          "text": [
            "<class 'pandas.core.frame.DataFrame'>\n",
            "Int64Index: 5976 entries, 0 to 6018\n",
            "Data columns (total 14 columns):\n",
            " #   Column                Non-Null Count  Dtype   \n",
            "---  ------                --------------  -----   \n",
            " 0   Name                  5976 non-null   object  \n",
            " 1   Location              5976 non-null   object  \n",
            " 2   Year                  5976 non-null   int64   \n",
            " 3   Kilometers_Driven     5976 non-null   int64   \n",
            " 4   Fuel_Type             5976 non-null   category\n",
            " 5   Transmission          5976 non-null   object  \n",
            " 6   Owner_Type            5976 non-null   object  \n",
            " 7   Mileage               5976 non-null   float64 \n",
            " 8   Engine                5976 non-null   int64   \n",
            " 9   Power                 5976 non-null   float64 \n",
            " 10  Seats                 5976 non-null   float64 \n",
            " 11  Price                 5976 non-null   float64 \n",
            " 12  Car_Brand             5976 non-null   category\n",
            " 13  Standardized_Mileage  5976 non-null   float64 \n",
            "dtypes: category(2), float64(5), int64(3), object(4)\n",
            "memory usage: 620.1+ KB\n"
          ]
        }
      ]
    },
    {
      "cell_type": "code",
      "source": [
        "import matplotlib.pyplot as plt\n",
        "import seaborn as sns\n",
        "\n",
        "# Assuming 'df' is your DataFrame containing the dataset\n",
        "\n",
        "# Set the style for seaborn\n",
        "sns.set(style=\"whitegrid\")\n",
        "\n",
        "# Plot 1: Distribution of Years\n",
        "plt.figure(figsize=(12, 6))\n",
        "sns.histplot(train_df['Year'], bins=20, kde=True, color='skyblue')\n",
        "plt.title('Distribution of Car Years')\n",
        "plt.xlabel('Year')\n",
        "plt.ylabel('Count')\n",
        "plt.show()\n",
        "\n"
      ],
      "metadata": {
        "colab": {
          "base_uri": "https://localhost:8080/",
          "height": 573
        },
        "id": "CsBBzBQ4dl-i",
        "outputId": "47f1794a-46c6-4a72-dedf-f27ebb63979f"
      },
      "execution_count": null,
      "outputs": [
        {
          "output_type": "display_data",
          "data": {
            "text/plain": [
              "<Figure size 1200x600 with 1 Axes>"
            ],
            "image/png": "[encoded data removed]"
          },
          "metadata": {}
        }
      ]
    },
    {
      "cell_type": "code",
      "source": [
        "# Plot 2: Count of Cars in each Location\n",
        "plt.figure(figsize=(12, 6))\n",
        "sns.countplot(x='Location', data=train_df, palette='viridis')\n",
        "plt.title('Count of Cars in each Location')\n",
        "plt.xlabel('Location')\n",
        "plt.ylabel('Count')\n",
        "plt.show()\n",
        "\n"
      ],
      "metadata": {
        "colab": {
          "base_uri": "https://localhost:8080/",
          "height": 660
        },
        "id": "UBoIONmAiZRJ",
        "outputId": "51ea0eca-3721-4b66-efca-5c92b9c5dcb8"
      },
      "execution_count": null,
      "outputs": [
        {
          "output_type": "stream",
          "name": "stderr",
          "text": [
            "<ipython-input-1238-7816572d3621>:3: FutureWarning: \n",
            "\n",
            "Passing `palette` without assigning `hue` is deprecated and will be removed in v0.14.0. Assign the `x` variable to `hue` and set `legend=False` for the same effect.\n",
            "\n",
            "  sns.countplot(x='Location', data=train_df, palette='viridis')\n"
          ]
        },
        {
          "output_type": "display_data",
          "data": {
            "text/plain": [
              "<Figure size 1200x600 with 1 Axes>"
            ],
            "image/png": "[encoded data removed]"
          },
          "metadata": {}
        }
      ]
    },
    {
      "cell_type": "code",
      "source": [
        "# Plot 3: Distribution of Mileage\n",
        "plt.figure(figsize=(12, 6))\n",
        "sns.histplot(train_df['Mileage'], bins=30, kde=True, color='green')\n",
        "plt.title('Distribution of Mileage')\n",
        "plt.xlabel('Mileage')\n",
        "plt.ylabel('Count')\n",
        "plt.show()\n"
      ],
      "metadata": {
        "colab": {
          "base_uri": "https://localhost:8080/",
          "height": 573
        },
        "id": "KMvDTLqUklmR",
        "outputId": "774abce9-c947-497f-b6b4-157bad1843cc"
      },
      "execution_count": null,
      "outputs": [
        {
          "output_type": "display_data",
          "data": {
            "text/plain": [
              "<Figure size 1200x600 with 1 Axes>"
            ],
            "image/png": "[encoded data removed]"
          },
          "metadata": {}
        }
      ]
    },
    {
      "cell_type": "code",
      "source": [
        "print(\"Find most important features relative to Price-target\")\n",
        "numeric_vals = train_df.select_dtypes(include=['number'])\n",
        "numeric_corr = numeric_vals.corr()\n",
        "numeric_corr.sort_values([\"Price\"], ascending = False, inplace = True)\n",
        "print(numeric_corr.Price)"
      ],
      "metadata": {
        "colab": {
          "base_uri": "https://localhost:8080/"
        },
        "id": "hOHeLHNlk0bV",
        "outputId": "1e250ccf-f44a-4677-d018-4a1b50fcf04c"
      },
      "execution_count": null,
      "outputs": [
        {
          "output_type": "stream",
          "name": "stdout",
          "text": [
            "Find most important features relative to Price-target\n",
            "Price                   1.000000\n",
            "Power                   0.716814\n",
            "Engine                  0.658605\n",
            "Year                    0.305689\n",
            "Seats                   0.051905\n",
            "Kilometers_Driven      -0.011229\n",
            "Standardized_Mileage   -0.294894\n",
            "Mileage                -0.336302\n",
            "Name: Price, dtype: float64\n"
          ]
        }
      ]
    },
    {
      "cell_type": "code",
      "source": [
        "plt.figure(figsize=(15,  3))\n",
        "sns.heatmap(numeric_corr, annot=True, cmap='coolwarm', linewidth=0.5)\n",
        "plt.title('Heatmap of Correlation')\n",
        "plt.show()"
      ],
      "metadata": {
        "colab": {
          "base_uri": "https://localhost:8080/",
          "height": 319
        },
        "id": "NwxAwoSdlOM5",
        "outputId": "26955516-2d70-4ad1-a240-280c0aeb86fb"
      },
      "execution_count": null,
      "outputs": [
        {
          "output_type": "display_data",
          "data": {
            "text/plain": [
              "<Figure size 1500x300 with 2 Axes>"
            ],
            "image/png": "[encoded data removed]"
          },
          "metadata": {}
        }
      ]
    },
    {
      "cell_type": "code",
      "source": [
        "#Most Expensive Cars\n",
        "xdf = train_df.groupby('Car_Brand').agg({'Price': 'mean'})\n",
        "xdf = xdf.sort_values(by='Price', ascending=False)\n",
        "xdf.head()"
      ],
      "metadata": {
        "colab": {
          "base_uri": "https://localhost:8080/",
          "height": 238
        },
        "id": "h0HxPL8AlsXP",
        "outputId": "4a3de462-1440-4373-dfef-ee9e084bff7b"
      },
      "execution_count": null,
      "outputs": [
        {
          "output_type": "execute_result",
          "data": {
            "text/plain": [
              "                  Price\n",
              "Car_Brand              \n",
              "Lamborghini  120.000000\n",
              "Bentley       59.000000\n",
              "Porsche       48.348333\n",
              "Land          39.861053\n",
              "Jaguar        37.632250"
            ],
            "text/html": [
              "\n",
              "  <div id=\"df-a2343ac7-b340-431b-8407-bcde0d370949\" class=\"colab-df-container\">\n",
              "    <div>\n",
              "<style scoped>\n",
              "    .dataframe tbody tr th:only-of-type {\n",
              "        vertical-align: middle;\n",
              "    }\n",
              "\n",
              "    .dataframe tbody tr th {\n",
              "        vertical-align: top;\n",
              "    }\n",
              "\n",
              "    .dataframe thead th {\n",
              "        text-align: right;\n",
              "    }\n",
              "</style>\n",
              "<table border=\"1\" class=\"dataframe\">\n",
              "  <thead>\n",
              "    <tr style=\"text-align: right;\">\n",
              "      <th></th>\n",
              "      <th>Price</th>\n",
              "    </tr>\n",
              "    <tr>\n",
              "      <th>Car_Brand</th>\n",
              "      <th></th>\n",
              "    </tr>\n",
              "  </thead>\n",
              "  <tbody>\n",
              "    <tr>\n",
              "      <th>Lamborghini</th>\n",
              "      <td>120.000000</td>\n",
              "    </tr>\n",
              "    <tr>\n",
              "      <th>Bentley</th>\n",
              "      <td>59.000000</td>\n",
              "    </tr>\n",
              "    <tr>\n",
              "      <th>Porsche</th>\n",
              "      <td>48.348333</td>\n",
              "    </tr>\n",
              "    <tr>\n",
              "      <th>Land</th>\n",
              "      <td>39.861053</td>\n",
              "    </tr>\n",
              "    <tr>\n",
              "      <th>Jaguar</th>\n",
              "      <td>37.632250</td>\n",
              "    </tr>\n",
              "  </tbody>\n",
              "</table>\n",
              "</div>\n",
              "    <div class=\"colab-df-buttons\">\n",
              "\n",
              "  <div class=\"colab-df-container\">\n",
              "    <button class=\"colab-df-convert\" onclick=\"convertToInteractive('df-a2343ac7-b340-431b-8407-bcde0d370949')\"\n",
              "            title=\"Convert this dataframe to an interactive table.\"\n",
              "            style=\"display:none;\">\n",
              "\n",
              "  <svg xmlns=\"http://www.w3.org/2000/svg\" height=\"24px\" viewBox=\"0 -960 960 960\">\n",
              "    <path d=\"M120-120v-720h720v720H120Zm60-500h600v-160H180v160Zm220 220h160v-160H400v160Zm0 220h160v-160H400v160ZM180-400h160v-160H180v160Zm440 0h160v-160H620v160ZM180-180h160v-160H180v160Zm440 0h160v-160H620v160Z\"/>\n",
              "  </svg>\n",
              "    </button>\n",
              "\n",
              "  <style>\n",
              "    .colab-df-container {\n",
              "      display:flex;\n",
              "      gap: 12px;\n",
              "    }\n",
              "\n",
              "    .colab-df-convert {\n",
              "      background-color: #E8F0FE;\n",
              "      border: none;\n",
              "      border-radius: 50%;\n",
              "      cursor: pointer;\n",
              "      display: none;\n",
              "      fill: #1967D2;\n",
              "      height: 32px;\n",
              "      padding: 0 0 0 0;\n",
              "      width: 32px;\n",
              "    }\n",
              "\n",
              "    .colab-df-convert:hover {\n",
              "      background-color: #E2EBFA;\n",
              "      box-shadow: 0px 1px 2px rgba(60, 64, 67, 0.3), 0px 1px 3px 1px rgba(60, 64, 67, 0.15);\n",
              "      fill: #174EA6;\n",
              "    }\n",
              "\n",
              "    .colab-df-buttons div {\n",
              "      margin-bottom: 4px;\n",
              "    }\n",
              "\n",
              "    [theme=dark] .colab-df-convert {\n",
              "      background-color: #3B4455;\n",
              "      fill: #D2E3FC;\n",
              "    }\n",
              "\n",
              "    [theme=dark] .colab-df-convert:hover {\n",
              "      background-color: #434B5C;\n",
              "      box-shadow: 0px 1px 3px 1px rgba(0, 0, 0, 0.15);\n",
              "      filter: drop-shadow(0px 1px 2px rgba(0, 0, 0, 0.3));\n",
              "      fill: #FFFFFF;\n",
              "    }\n",
              "  </style>\n",
              "\n",
              "    <script>\n",
              "      const buttonEl =\n",
              "        document.querySelector('#df-a2343ac7-b340-431b-8407-bcde0d370949 button.colab-df-convert');\n",
              "      buttonEl.style.display =\n",
              "        google.colab.kernel.accessAllowed ? 'block' : 'none';\n",
              "\n",
              "      async function convertToInteractive(key) {\n",
              "        const element = document.querySelector('#df-a2343ac7-b340-431b-8407-bcde0d370949');\n",
              "        const dataTable =\n",
              "          await google.colab.kernel.invokeFunction('convertToInteractive',\n",
              "                                                    [key], {});\n",
              "        if (!dataTable) return;\n",
              "\n",
              "        const docLinkHtml = 'Like what you see? Visit the ' +\n",
              "          '<a target=\"_blank\" href=https://colab.research.google.com/notebooks/data_table.ipynb>data table notebook</a>'\n",
              "          + ' to learn more about interactive tables.';\n",
              "        element.innerHTML = '';\n",
              "        dataTable['output_type'] = 'display_data';\n",
              "        await google.colab.output.renderOutput(dataTable, element);\n",
              "        const docLink = document.createElement('div');\n",
              "        docLink.innerHTML = docLinkHtml;\n",
              "        element.appendChild(docLink);\n",
              "      }\n",
              "    </script>\n",
              "  </div>\n",
              "\n",
              "\n",
              "<div id=\"df-17528e1d-275a-41e4-95f9-5eac45aafac3\">\n",
              "  <button class=\"colab-df-quickchart\" onclick=\"quickchart('df-17528e1d-275a-41e4-95f9-5eac45aafac3')\"\n",
              "            title=\"Suggest charts\"\n",
              "            style=\"display:none;\">\n",
              "\n",
              "<svg xmlns=\"http://www.w3.org/2000/svg\" height=\"24px\"viewBox=\"0 0 24 24\"\n",
              "     width=\"24px\">\n",
              "    <g>\n",
              "        <path d=\"M19 3H5c-1.1 0-2 .9-2 2v14c0 1.1.9 2 2 2h14c1.1 0 2-.9 2-2V5c0-1.1-.9-2-2-2zM9 17H7v-7h2v7zm4 0h-2V7h2v10zm4 0h-2v-4h2v4z\"/>\n",
              "    </g>\n",
              "</svg>\n",
              "  </button>\n",
              "\n",
              "<style>\n",
              "  .colab-df-quickchart {\n",
              "      --bg-color: #E8F0FE;\n",
              "      --fill-color: #1967D2;\n",
              "      --hover-bg-color: #E2EBFA;\n",
              "      --hover-fill-color: #174EA6;\n",
              "      --disabled-fill-color: #AAA;\n",
              "      --disabled-bg-color: #DDD;\n",
              "  }\n",
              "\n",
              "  [theme=dark] .colab-df-quickchart {\n",
              "      --bg-color: #3B4455;\n",
              "      --fill-color: #D2E3FC;\n",
              "      --hover-bg-color: #434B5C;\n",
              "      --hover-fill-color: #FFFFFF;\n",
              "      --disabled-bg-color: #3B4455;\n",
              "      --disabled-fill-color: #666;\n",
              "  }\n",
              "\n",
              "  .colab-df-quickchart {\n",
              "    background-color: var(--bg-color);\n",
              "    border: none;\n",
              "    border-radius: 50%;\n",
              "    cursor: pointer;\n",
              "    display: none;\n",
              "    fill: var(--fill-color);\n",
              "    height: 32px;\n",
              "    padding: 0;\n",
              "    width: 32px;\n",
              "  }\n",
              "\n",
              "  .colab-df-quickchart:hover {\n",
              "    background-color: var(--hover-bg-color);\n",
              "    box-shadow: 0 1px 2px rgba(60, 64, 67, 0.3), 0 1px 3px 1px rgba(60, 64, 67, 0.15);\n",
              "    fill: var(--button-hover-fill-color);\n",
              "  }\n",
              "\n",
              "  .colab-df-quickchart-complete:disabled,\n",
              "  .colab-df-quickchart-complete:disabled:hover {\n",
              "    background-color: var(--disabled-bg-color);\n",
              "    fill: var(--disabled-fill-color);\n",
              "    box-shadow: none;\n",
              "  }\n",
              "\n",
              "  .colab-df-spinner {\n",
              "    border: 2px solid var(--fill-color);\n",
              "    border-color: transparent;\n",
              "    border-bottom-color: var(--fill-color);\n",
              "    animation:\n",
              "      spin 1s steps(1) infinite;\n",
              "  }\n",
              "\n",
              "  @keyframes spin {\n",
              "    0% {\n",
              "      border-color: transparent;\n",
              "      border-bottom-color: var(--fill-color);\n",
              "      border-left-color: var(--fill-color);\n",
              "    }\n",
              "    20% {\n",
              "      border-color: transparent;\n",
              "      border-left-color: var(--fill-color);\n",
              "      border-top-color: var(--fill-color);\n",
              "    }\n",
              "    30% {\n",
              "      border-color: transparent;\n",
              "      border-left-color: var(--fill-color);\n",
              "      border-top-color: var(--fill-color);\n",
              "      border-right-color: var(--fill-color);\n",
              "    }\n",
              "    40% {\n",
              "      border-color: transparent;\n",
              "      border-right-color: var(--fill-color);\n",
              "      border-top-color: var(--fill-color);\n",
              "    }\n",
              "    60% {\n",
              "      border-color: transparent;\n",
              "      border-right-color: var(--fill-color);\n",
              "    }\n",
              "    80% {\n",
              "      border-color: transparent;\n",
              "      border-right-color: var(--fill-color);\n",
              "      border-bottom-color: var(--fill-color);\n",
              "    }\n",
              "    90% {\n",
              "      border-color: transparent;\n",
              "      border-bottom-color: var(--fill-color);\n",
              "    }\n",
              "  }\n",
              "</style>\n",
              "\n",
              "  <script>\n",
              "    async function quickchart(key) {\n",
              "      const quickchartButtonEl =\n",
              "        document.querySelector('#' + key + ' button');\n",
              "      quickchartButtonEl.disabled = true;  // To prevent multiple clicks.\n",
              "      quickchartButtonEl.classList.add('colab-df-spinner');\n",
              "      try {\n",
              "        const charts = await google.colab.kernel.invokeFunction(\n",
              "            'suggestCharts', [key], {});\n",
              "      } catch (error) {\n",
              "        console.error('Error during call to suggestCharts:', error);\n",
              "      }\n",
              "      quickchartButtonEl.classList.remove('colab-df-spinner');\n",
              "      quickchartButtonEl.classList.add('colab-df-quickchart-complete');\n",
              "    }\n",
              "    (() => {\n",
              "      let quickchartButtonEl =\n",
              "        document.querySelector('#df-17528e1d-275a-41e4-95f9-5eac45aafac3 button');\n",
              "      quickchartButtonEl.style.display =\n",
              "        google.colab.kernel.accessAllowed ? 'block' : 'none';\n",
              "    })();\n",
              "  </script>\n",
              "</div>\n",
              "\n",
              "    </div>\n",
              "  </div>\n"
            ]
          },
          "metadata": {},
          "execution_count": 1242
        }
      ]
    },
    {
      "cell_type": "code",
      "source": [
        "train_df.groupby(\"Owner_Type\")[\"Price\"].mean()"
      ],
      "metadata": {
        "colab": {
          "base_uri": "https://localhost:8080/"
        },
        "id": "W4R-XIjemgyA",
        "outputId": "91e55cea-e1a5-481d-9654-c63b71ab6fa8"
      },
      "execution_count": null,
      "outputs": [
        {
          "output_type": "execute_result",
          "data": {
            "text/plain": [
              "Owner_Type\n",
              "First             9.980901\n",
              "Fourth & Above    3.396250\n",
              "Second            7.627500\n",
              "Third             4.956937\n",
              "Name: Price, dtype: float64"
            ]
          },
          "metadata": {},
          "execution_count": 1243
        }
      ]
    },
    {
      "cell_type": "markdown",
      "source": [
        "#Pre-Processing\n",
        "\n"
      ],
      "metadata": {
        "id": "VsESK9IGnrLY"
      }
    },
    {
      "cell_type": "code",
      "source": [
        "test_df.info()"
      ],
      "metadata": {
        "colab": {
          "base_uri": "https://localhost:8080/"
        },
        "id": "Ei8iXqICnqOW",
        "outputId": "e4bd2923-1c60-4b4d-8cf7-74571691a418"
      },
      "execution_count": null,
      "outputs": [
        {
          "output_type": "stream",
          "name": "stdout",
          "text": [
            "<class 'pandas.core.frame.DataFrame'>\n",
            "RangeIndex: 1234 entries, 0 to 1233\n",
            "Data columns (total 13 columns):\n",
            " #   Column                Non-Null Count  Dtype   \n",
            "---  ------                --------------  -----   \n",
            " 0   Name                  1234 non-null   object  \n",
            " 1   Location              1234 non-null   object  \n",
            " 2   Year                  1234 non-null   int64   \n",
            " 3   Kilometers_Driven     1234 non-null   int64   \n",
            " 4   Fuel_Type             1234 non-null   category\n",
            " 5   Transmission          1234 non-null   object  \n",
            " 6   Owner_Type            1234 non-null   object  \n",
            " 7   Mileage               1234 non-null   float64 \n",
            " 8   Engine                1224 non-null   float64 \n",
            " 9   Power                 1233 non-null   float64 \n",
            " 10  Seats                 1223 non-null   float64 \n",
            " 11  Car_Brand             1234 non-null   category\n",
            " 12  Standardized_Mileage  1234 non-null   float64 \n",
            "dtypes: category(2), float64(5), int64(2), object(4)\n",
            "memory usage: 110.1+ KB\n"
          ]
        }
      ]
    },
    {
      "cell_type": "code",
      "source": [
        "train_df.info()"
      ],
      "metadata": {
        "colab": {
          "base_uri": "https://localhost:8080/"
        },
        "id": "M5GT5DDHnJiG",
        "outputId": "1407e955-1f1f-44cc-d429-e733ba1acddb"
      },
      "execution_count": null,
      "outputs": [
        {
          "output_type": "stream",
          "name": "stdout",
          "text": [
            "<class 'pandas.core.frame.DataFrame'>\n",
            "Int64Index: 5976 entries, 0 to 6018\n",
            "Data columns (total 14 columns):\n",
            " #   Column                Non-Null Count  Dtype   \n",
            "---  ------                --------------  -----   \n",
            " 0   Name                  5976 non-null   object  \n",
            " 1   Location              5976 non-null   object  \n",
            " 2   Year                  5976 non-null   int64   \n",
            " 3   Kilometers_Driven     5976 non-null   int64   \n",
            " 4   Fuel_Type             5976 non-null   category\n",
            " 5   Transmission          5976 non-null   object  \n",
            " 6   Owner_Type            5976 non-null   object  \n",
            " 7   Mileage               5976 non-null   float64 \n",
            " 8   Engine                5976 non-null   int64   \n",
            " 9   Power                 5976 non-null   float64 \n",
            " 10  Seats                 5976 non-null   float64 \n",
            " 11  Price                 5976 non-null   float64 \n",
            " 12  Car_Brand             5976 non-null   category\n",
            " 13  Standardized_Mileage  5976 non-null   float64 \n",
            "dtypes: category(2), float64(5), int64(3), object(4)\n",
            "memory usage: 620.1+ KB\n"
          ]
        }
      ]
    },
    {
      "cell_type": "code",
      "source": [
        "from sklearn.preprocessing import LabelEncoder\n",
        "\n",
        "# Assuming 'train_df' is your DataFrame\n",
        "\n",
        "# Define columns to encode\n",
        "columns_to_encode = ['Car_Brand', 'Seats', 'Owner_Type', 'Transmission', 'Fuel_Type','Location']\n",
        "\n",
        "# Create a LabelEncoder instance\n",
        "label_encoder = LabelEncoder()\n",
        "\n",
        "# Apply LabelEncoder to each specified column\n",
        "for column in columns_to_encode:\n",
        "    if column in train_df.columns:\n",
        "        train_df[column] = label_encoder.fit_transform(train_df[column])\n",
        "\n",
        "# Display the updated DataFrame\n",
        "print(train_df[columns_to_encode])\n"
      ],
      "metadata": {
        "colab": {
          "base_uri": "https://localhost:8080/"
        },
        "id": "M8TzvbRwqKFM",
        "outputId": "789b6ebd-61da-48c4-d913-69f37121c5f0"
      },
      "execution_count": null,
      "outputs": [
        {
          "output_type": "stream",
          "name": "stdout",
          "text": [
            "      Car_Brand  Seats  Owner_Type  Transmission  Fuel_Type  Location\n",
            "0             1      1           0             0          4         4\n",
            "1             1      1           0             0          4         7\n",
            "2            19      2           0             0          1         5\n",
            "3             9      3           0             1          4         9\n",
            "4             9      3           2             1          4        10\n",
            "...         ...    ...         ...           ...        ...       ...\n",
            "6014         17      4           0             1          1         2\n",
            "6015         10      3           2             1          4         9\n",
            "6016         25      3           0             0          4         5\n",
            "6017         27      3           0             0          2         9\n",
            "6018         17      3           0             0          2         2\n",
            "\n",
            "[5976 rows x 6 columns]\n"
          ]
        }
      ]
    },
    {
      "cell_type": "code",
      "source": [
        "from sklearn.preprocessing import LabelEncoder\n",
        "\n",
        "# Assuming 'test_df' is your DataFrame\n",
        "\n",
        "# Define columns to encode\n",
        "columns_to_encode = ['Car_Brand', 'Seats', 'Owner_Type', 'Transmission', 'Fuel_Type','Location']\n",
        "\n",
        "# Create a LabelEncoder instance\n",
        "label_encoder = LabelEncoder()\n",
        "\n",
        "# Apply LabelEncoder to each specified column\n",
        "for column in columns_to_encode:\n",
        "    if column in test_df.columns:\n",
        "        test_df[column] = label_encoder.fit_transform(test_df[column])\n",
        "\n",
        "# Display the updated DataFrame\n",
        "print(test_df[columns_to_encode])"
      ],
      "metadata": {
        "colab": {
          "base_uri": "https://localhost:8080/"
        },
        "id": "jc-W5RgbqKDe",
        "outputId": "664124cd-b894-41bd-b258-3a3f209c25c9"
      },
      "execution_count": null,
      "outputs": [
        {
          "output_type": "stream",
          "name": "stdout",
          "text": [
            "      Car_Brand  Seats  Owner_Type  Transmission  Fuel_Type  Location\n",
            "0            16      1           0             1          0         4\n",
            "1            16      2           2             1          3         3\n",
            "2            26      4           0             1          1         9\n",
            "3            26      2           0             1          1         5\n",
            "4             9      2           0             1          3         9\n",
            "...         ...    ...         ...           ...        ...       ...\n",
            "1229         27      2           0             1          1         5\n",
            "1230         27      2           0             0          3         9\n",
            "1231         20      2           0             1          1         8\n",
            "1232         27      2           3             0          3        10\n",
            "1233         17      2           0             0          1         7\n",
            "\n",
            "[1234 rows x 6 columns]\n"
          ]
        }
      ]
    },
    {
      "cell_type": "code",
      "source": [
        "train_df.info()"
      ],
      "metadata": {
        "colab": {
          "base_uri": "https://localhost:8080/"
        },
        "id": "JpYKWpQRqKBC",
        "outputId": "398528a7-e457-4277-b049-a9e534dea4fa"
      },
      "execution_count": null,
      "outputs": [
        {
          "output_type": "stream",
          "name": "stdout",
          "text": [
            "<class 'pandas.core.frame.DataFrame'>\n",
            "Int64Index: 5976 entries, 0 to 6018\n",
            "Data columns (total 14 columns):\n",
            " #   Column                Non-Null Count  Dtype  \n",
            "---  ------                --------------  -----  \n",
            " 0   Name                  5976 non-null   object \n",
            " 1   Location              5976 non-null   int64  \n",
            " 2   Year                  5976 non-null   int64  \n",
            " 3   Kilometers_Driven     5976 non-null   int64  \n",
            " 4   Fuel_Type             5976 non-null   int64  \n",
            " 5   Transmission          5976 non-null   int64  \n",
            " 6   Owner_Type            5976 non-null   int64  \n",
            " 7   Mileage               5976 non-null   float64\n",
            " 8   Engine                5976 non-null   int64  \n",
            " 9   Power                 5976 non-null   float64\n",
            " 10  Seats                 5976 non-null   int64  \n",
            " 11  Price                 5976 non-null   float64\n",
            " 12  Car_Brand             5976 non-null   int64  \n",
            " 13  Standardized_Mileage  5976 non-null   float64\n",
            "dtypes: float64(4), int64(9), object(1)\n",
            "memory usage: 700.3+ KB\n"
          ]
        }
      ]
    },
    {
      "cell_type": "code",
      "source": [
        "test_df.info()"
      ],
      "metadata": {
        "colab": {
          "base_uri": "https://localhost:8080/"
        },
        "id": "zh0ccK3TqJ95",
        "outputId": "32069269-77bc-4138-fe1f-a76aa7c1fced"
      },
      "execution_count": null,
      "outputs": [
        {
          "output_type": "stream",
          "name": "stdout",
          "text": [
            "<class 'pandas.core.frame.DataFrame'>\n",
            "RangeIndex: 1234 entries, 0 to 1233\n",
            "Data columns (total 13 columns):\n",
            " #   Column                Non-Null Count  Dtype  \n",
            "---  ------                --------------  -----  \n",
            " 0   Name                  1234 non-null   object \n",
            " 1   Location              1234 non-null   int64  \n",
            " 2   Year                  1234 non-null   int64  \n",
            " 3   Kilometers_Driven     1234 non-null   int64  \n",
            " 4   Fuel_Type             1234 non-null   int64  \n",
            " 5   Transmission          1234 non-null   int64  \n",
            " 6   Owner_Type            1234 non-null   int64  \n",
            " 7   Mileage               1234 non-null   float64\n",
            " 8   Engine                1224 non-null   float64\n",
            " 9   Power                 1233 non-null   float64\n",
            " 10  Seats                 1234 non-null   int64  \n",
            " 11  Car_Brand             1234 non-null   int64  \n",
            " 12  Standardized_Mileage  1234 non-null   float64\n",
            "dtypes: float64(4), int64(8), object(1)\n",
            "memory usage: 125.5+ KB\n"
          ]
        }
      ]
    },
    {
      "cell_type": "code",
      "source": [
        "from sklearn.preprocessing import LabelEncoder\n",
        "\n",
        "# Assuming 'test_df' is your DataFrame\n",
        "\n",
        "# Define columns to encode\n",
        "columns_to_encode = ['Car_Brand', 'Seats', 'Owner_Type', 'Transmission', 'Fuel_Type']\n",
        "\n",
        "# Create a LabelEncoder instance\n",
        "label_encoder = LabelEncoder()\n",
        "\n",
        "# Apply LabelEncoder to each specified column\n",
        "for column in columns_to_encode:\n",
        "    if column in test_df.columns:\n",
        "        test_df[column] = label_encoder.fit_transform(test_df[column])\n",
        "\n",
        "# Display the updated DataFrame\n",
        "print(test_df[columns_to_encode])\n"
      ],
      "metadata": {
        "colab": {
          "base_uri": "https://localhost:8080/"
        },
        "id": "wuHNN2QQqJ6i",
        "outputId": "1a7b9b15-30fd-4c04-e5a1-4685695825ff"
      },
      "execution_count": null,
      "outputs": [
        {
          "output_type": "stream",
          "name": "stdout",
          "text": [
            "      Car_Brand  Seats  Owner_Type  Transmission  Fuel_Type\n",
            "0            16      1           0             1          0\n",
            "1            16      2           2             1          3\n",
            "2            26      4           0             1          1\n",
            "3            26      2           0             1          1\n",
            "4             9      2           0             1          3\n",
            "...         ...    ...         ...           ...        ...\n",
            "1229         27      2           0             1          1\n",
            "1230         27      2           0             0          3\n",
            "1231         20      2           0             1          1\n",
            "1232         27      2           3             0          3\n",
            "1233         17      2           0             0          1\n",
            "\n",
            "[1234 rows x 5 columns]\n"
          ]
        }
      ]
    },
    {
      "cell_type": "markdown",
      "source": [
        "#Modeling"
      ],
      "metadata": {
        "id": "FWG2GEMlsf3u"
      }
    },
    {
      "cell_type": "code",
      "source": [
        "#The data which has to be trained\n",
        "X = train_df[['Car_Brand', 'Location', 'Fuel_Type', 'Transmission', 'Owner_Type', 'Year', 'Engine', 'Power','Standardized_Mileage']]\n",
        "y = train_df['Price']"
      ],
      "metadata": {
        "id": "2o6Qz091qJwB"
      },
      "execution_count": null,
      "outputs": []
    },
    {
      "cell_type": "code",
      "source": [
        "X.info()"
      ],
      "metadata": {
        "colab": {
          "base_uri": "https://localhost:8080/"
        },
        "id": "wNZelKwmwRU6",
        "outputId": "94669466-665f-47e3-8639-0d14455d4713"
      },
      "execution_count": null,
      "outputs": [
        {
          "output_type": "stream",
          "name": "stdout",
          "text": [
            "<class 'pandas.core.frame.DataFrame'>\n",
            "Int64Index: 5976 entries, 0 to 6018\n",
            "Data columns (total 9 columns):\n",
            " #   Column                Non-Null Count  Dtype  \n",
            "---  ------                --------------  -----  \n",
            " 0   Car_Brand             5976 non-null   int64  \n",
            " 1   Location              5976 non-null   int64  \n",
            " 2   Fuel_Type             5976 non-null   int64  \n",
            " 3   Transmission          5976 non-null   int64  \n",
            " 4   Owner_Type            5976 non-null   int64  \n",
            " 5   Year                  5976 non-null   int64  \n",
            " 6   Engine                5976 non-null   int64  \n",
            " 7   Power                 5976 non-null   float64\n",
            " 8   Standardized_Mileage  5976 non-null   float64\n",
            "dtypes: float64(2), int64(7)\n",
            "memory usage: 466.9 KB\n"
          ]
        }
      ]
    },
    {
      "cell_type": "code",
      "source": [
        "#Splitting the data into training and testing\n",
        "X_train, X_test, y_train, y_test = train_test_split(X, y, test_size=0.2, random_state=27\n",
        "                                                    )"
      ],
      "metadata": {
        "id": "e2tSnb-Vtx7V"
      },
      "execution_count": null,
      "outputs": []
    },
    {
      "cell_type": "code",
      "source": [
        "#Comparing accuracy of models which we could have used\n",
        "regressors = [\n",
        "    ['MultiLinearRegressor', LinearRegression()],\n",
        "    ['DecisionTreeRegressor', DecisionTreeRegressor()],\n",
        "    ['RandomForestRegressor', RandomForestRegressor()],\n",
        "    ['GradientBoostingRegressor', GradientBoostingRegressor()],\n",
        "    ['XGBRegressor', XGBRegressor()]\n",
        "]\n",
        "\n",
        "resultsacc1 = []\n",
        "resultsacc2 = []\n",
        "\n",
        "for model in regressors:\n",
        "    name = model[0]\n",
        "    mod = model[1]\n",
        "\n",
        "    mod.fit(X_train, y_train)\n",
        "    y_pred = mod.predict(X_test)\n",
        "\n",
        "    #Errors Metrics\n",
        "    mse = metrics.mean_squared_error(y_pred,y_test)\n",
        "    rmse = math.sqrt(mse)\n",
        "    mae = metrics.mean_absolute_error(y_pred,y_test)\n",
        "\n",
        "    #Accuracy Metrics\n",
        "    RMSE = np.sqrt(metrics.mean_squared_error(y_test, y_pred))\n",
        "    acctrs = mod.score(X_train, y_train)\n",
        "    acctes = mod.score(X_test, y_test)\n",
        "\n",
        "    resultsacc1.append({'Model': name, 'MeanAbsoluteError': mae, 'AccuracyTraining': acctrs, 'AccuracyTesting': acctes})\n",
        "    resultsacc2.append({'Model': name, 'MeanSqauredError': mse, 'RootMeanSquareError': rmse, 'MeanAbsoluteError': mae})\n",
        "\n",
        "results1_df = pd.DataFrame(resultsacc1)\n",
        "results2_df = pd.DataFrame(resultsacc2)\n",
        "\n",
        "\n",
        "print(results1_df)\n",
        "print(results2_df)\n"
      ],
      "metadata": {
        "colab": {
          "base_uri": "https://localhost:8080/"
        },
        "id": "hCcigMKv01ZO",
        "outputId": "66c99b2e-93e9-471f-b46f-fb35a1e50cac"
      },
      "execution_count": null,
      "outputs": [
        {
          "output_type": "stream",
          "name": "stdout",
          "text": [
            "                       Model  MeanAbsoluteError  AccuracyTraining  \\\n",
            "0       MultiLinearRegressor           3.788861          0.678418   \n",
            "1      DecisionTreeRegressor           1.938061          0.996349   \n",
            "2      RandomForestRegressor           1.582062          0.978141   \n",
            "3  GradientBoostingRegressor           1.828582          0.916071   \n",
            "4               XGBRegressor           1.417705          0.987283   \n",
            "\n",
            "   AccuracyTesting  \n",
            "0         0.699602  \n",
            "1         0.813647  \n",
            "2         0.892504  \n",
            "3         0.895431  \n",
            "4         0.917325  \n",
            "                       Model  MeanSqauredError  RootMeanSquareError  \\\n",
            "0       MultiLinearRegressor         38.198871             6.180524   \n",
            "1      DecisionTreeRegressor         23.696864             4.867943   \n",
            "2      RandomForestRegressor         13.669281             3.697199   \n",
            "3  GradientBoostingRegressor         13.297137             3.646524   \n",
            "4               XGBRegressor         10.512968             3.242371   \n",
            "\n",
            "   MeanAbsoluteError  \n",
            "0           3.788861  \n",
            "1           1.938061  \n",
            "2           1.582062  \n",
            "3           1.828582  \n",
            "4           1.417705  \n"
          ]
        }
      ]
    },
    {
      "cell_type": "code",
      "source": [
        "# The above comparision makes the inference that XGBRegressor is more accurate in training and testing.\n",
        "model = XGBRegressor(n_estimators=1000)"
      ],
      "metadata": {
        "id": "Z_v8zuyHwKMd"
      },
      "execution_count": null,
      "outputs": []
    },
    {
      "cell_type": "code",
      "source": [
        "#model predict\n",
        "model.fit(X_train, y_train)"
      ],
      "metadata": {
        "colab": {
          "base_uri": "https://localhost:8080/",
          "height": 248
        },
        "id": "4Z0srLVA6EbA",
        "outputId": "c0ca318a-8cf7-4611-aa34-30a5a11da6f7"
      },
      "execution_count": null,
      "outputs": [
        {
          "output_type": "execute_result",
          "data": {
            "text/plain": [
              "XGBRegressor(base_score=None, booster=None, callbacks=None,\n",
              "             colsample_bylevel=None, colsample_bynode=None,\n",
              "             colsample_bytree=None, device=None, early_stopping_rounds=None,\n",
              "             enable_categorical=False, eval_metric=None, feature_types=None,\n",
              "             gamma=None, grow_policy=None, importance_type=None,\n",
              "             interaction_constraints=None, learning_rate=None, max_bin=None,\n",
              "             max_cat_threshold=None, max_cat_to_onehot=None,\n",
              "             max_delta_step=None, max_depth=None, max_leaves=None,\n",
              "             min_child_weight=None, missing=nan, monotone_constraints=None,\n",
              "             multi_strategy=None, n_estimators=1000, n_jobs=None,\n",
              "             num_parallel_tree=None, random_state=None, ...)"
            ],
            "text/html": [
              "<style>#sk-container-id-6 {color: black;background-color: white;}#sk-container-id-6 pre{padding: 0;}#sk-container-id-6 div.sk-toggleable {background-color: white;}#sk-container-id-6 label.sk-toggleable__label {cursor: pointer;display: block;width: 100%;margin-bottom: 0;padding: 0.3em;box-sizing: border-box;text-align: center;}#sk-container-id-6 label.sk-toggleable__label-arrow:before {content: \"▸\";float: left;margin-right: 0.25em;color: #696969;}#sk-container-id-6 label.sk-toggleable__label-arrow:hover:before {color: black;}#sk-container-id-6 div.sk-estimator:hover label.sk-toggleable__label-arrow:before {color: black;}#sk-container-id-6 div.sk-toggleable__content {max-height: 0;max-width: 0;overflow: hidden;text-align: left;background-color: #f0f8ff;}#sk-container-id-6 div.sk-toggleable__content pre {margin: 0.2em;color: black;border-radius: 0.25em;background-color: #f0f8ff;}#sk-container-id-6 input.sk-toggleable__control:checked~div.sk-toggleable__content {max-height: 200px;max-width: 100%;overflow: auto;}#sk-container-id-6 input.sk-toggleable__control:checked~label.sk-toggleable__label-arrow:before {content: \"▾\";}#sk-container-id-6 div.sk-estimator input.sk-toggleable__control:checked~label.sk-toggleable__label {background-color: #d4ebff;}#sk-container-id-6 div.sk-label input.sk-toggleable__control:checked~label.sk-toggleable__label {background-color: #d4ebff;}#sk-container-id-6 input.sk-hidden--visually {border: 0;clip: rect(1px 1px 1px 1px);clip: rect(1px, 1px, 1px, 1px);height: 1px;margin: -1px;overflow: hidden;padding: 0;position: absolute;width: 1px;}#sk-container-id-6 div.sk-estimator {font-family: monospace;background-color: #f0f8ff;border: 1px dotted black;border-radius: 0.25em;box-sizing: border-box;margin-bottom: 0.5em;}#sk-container-id-6 div.sk-estimator:hover {background-color: #d4ebff;}#sk-container-id-6 div.sk-parallel-item::after {content: \"\";width: 100%;border-bottom: 1px solid gray;flex-grow: 1;}#sk-container-id-6 div.sk-label:hover label.sk-toggleable__label {background-color: #d4ebff;}#sk-container-id-6 div.sk-serial::before {content: \"\";position: absolute;border-left: 1px solid gray;box-sizing: border-box;top: 0;bottom: 0;left: 50%;z-index: 0;}#sk-container-id-6 div.sk-serial {display: flex;flex-direction: column;align-items: center;background-color: white;padding-right: 0.2em;padding-left: 0.2em;position: relative;}#sk-container-id-6 div.sk-item {position: relative;z-index: 1;}#sk-container-id-6 div.sk-parallel {display: flex;align-items: stretch;justify-content: center;background-color: white;position: relative;}#sk-container-id-6 div.sk-item::before, #sk-container-id-6 div.sk-parallel-item::before {content: \"\";position: absolute;border-left: 1px solid gray;box-sizing: border-box;top: 0;bottom: 0;left: 50%;z-index: -1;}#sk-container-id-6 div.sk-parallel-item {display: flex;flex-direction: column;z-index: 1;position: relative;background-color: white;}#sk-container-id-6 div.sk-parallel-item:first-child::after {align-self: flex-end;width: 50%;}#sk-container-id-6 div.sk-parallel-item:last-child::after {align-self: flex-start;width: 50%;}#sk-container-id-6 div.sk-parallel-item:only-child::after {width: 0;}#sk-container-id-6 div.sk-dashed-wrapped {border: 1px dashed gray;margin: 0 0.4em 0.5em 0.4em;box-sizing: border-box;padding-bottom: 0.4em;background-color: white;}#sk-container-id-6 div.sk-label label {font-family: monospace;font-weight: bold;display: inline-block;line-height: 1.2em;}#sk-container-id-6 div.sk-label-container {text-align: center;}#sk-container-id-6 div.sk-container {/* jupyter's `normalize.less` sets `[hidden] { display: none; }` but bootstrap.min.css set `[hidden] { display: none !important; }` so we also need the `!important` here to be able to override the default hidden behavior on the sphinx rendered scikit-learn.org. See: https://github.com/scikit-learn/scikit-learn/issues/21755 */display: inline-block !important;position: relative;}#sk-container-id-6 div.sk-text-repr-fallback {display: none;}</style><div id=\"sk-container-id-6\" class=\"sk-top-container\"><div class=\"sk-text-repr-fallback\"><pre>XGBRegressor(base_score=None, booster=None, callbacks=None,\n",
              "             colsample_bylevel=None, colsample_bynode=None,\n",
              "             colsample_bytree=None, device=None, early_stopping_rounds=None,\n",
              "             enable_categorical=False, eval_metric=None, feature_types=None,\n",
              "             gamma=None, grow_policy=None, importance_type=None,\n",
              "             interaction_constraints=None, learning_rate=None, max_bin=None,\n",
              "             max_cat_threshold=None, max_cat_to_onehot=None,\n",
              "             max_delta_step=None, max_depth=None, max_leaves=None,\n",
              "             min_child_weight=None, missing=nan, monotone_constraints=None,\n",
              "             multi_strategy=None, n_estimators=1000, n_jobs=None,\n",
              "             num_parallel_tree=None, random_state=None, ...)</pre><b>In a Jupyter environment, please rerun this cell to show the HTML representation or trust the notebook. <br />On GitHub, the HTML representation is unable to render, please try loading this page with nbviewer.org.</b></div><div class=\"sk-container\" hidden><div class=\"sk-item\"><div class=\"sk-estimator sk-toggleable\"><input class=\"sk-toggleable__control sk-hidden--visually\" id=\"sk-estimator-id-6\" type=\"checkbox\" checked><label for=\"sk-estimator-id-6\" class=\"sk-toggleable__label sk-toggleable__label-arrow\">XGBRegressor</label><div class=\"sk-toggleable__content\"><pre>XGBRegressor(base_score=None, booster=None, callbacks=None,\n",
              "             colsample_bylevel=None, colsample_bynode=None,\n",
              "             colsample_bytree=None, device=None, early_stopping_rounds=None,\n",
              "             enable_categorical=False, eval_metric=None, feature_types=None,\n",
              "             gamma=None, grow_policy=None, importance_type=None,\n",
              "             interaction_constraints=None, learning_rate=None, max_bin=None,\n",
              "             max_cat_threshold=None, max_cat_to_onehot=None,\n",
              "             max_delta_step=None, max_depth=None, max_leaves=None,\n",
              "             min_child_weight=None, missing=nan, monotone_constraints=None,\n",
              "             multi_strategy=None, n_estimators=1000, n_jobs=None,\n",
              "             num_parallel_tree=None, random_state=None, ...)</pre></div></div></div></div></div>"
            ]
          },
          "metadata": {},
          "execution_count": 1256
        }
      ]
    },
    {
      "cell_type": "code",
      "source": [
        "y_pred = model.predict(X_test)"
      ],
      "metadata": {
        "id": "Yy_o-x1p6LmE"
      },
      "execution_count": null,
      "outputs": []
    },
    {
      "cell_type": "code",
      "source": [
        "#MSE, RMSE, MAE\n",
        "import math\n",
        "mse = metrics.mean_squared_error(y_pred,y_test)\n",
        "rmse = math.sqrt(mse)\n",
        "mae = metrics.mean_absolute_error(y_pred,y_test)\n",
        "vals = {\n",
        "    'Type of Error': ['Mean Squared Error', 'Root Mean Squared Error', 'Mean Absolute Error'],\n",
        "    'Value of Error': [mse, rmse, mae]\n",
        "}\n",
        "pd.DataFrame(vals)"
      ],
      "metadata": {
        "colab": {
          "base_uri": "https://localhost:8080/",
          "height": 143
        },
        "id": "5zCvey7T6L-j",
        "outputId": "89d849bc-c59f-46d0-c84a-d24fb2a88044"
      },
      "execution_count": null,
      "outputs": [
        {
          "output_type": "execute_result",
          "data": {
            "text/plain": [
              "             Type of Error  Value of Error\n",
              "0       Mean Squared Error       12.322969\n",
              "1  Root Mean Squared Error        3.510409\n",
              "2      Mean Absolute Error        1.522189"
            ],
            "text/html": [
              "\n",
              "  <div id=\"df-a0e73e66-cbf3-4baa-8673-024eac6111c7\" class=\"colab-df-container\">\n",
              "    <div>\n",
              "<style scoped>\n",
              "    .dataframe tbody tr th:only-of-type {\n",
              "        vertical-align: middle;\n",
              "    }\n",
              "\n",
              "    .dataframe tbody tr th {\n",
              "        vertical-align: top;\n",
              "    }\n",
              "\n",
              "    .dataframe thead th {\n",
              "        text-align: right;\n",
              "    }\n",
              "</style>\n",
              "<table border=\"1\" class=\"dataframe\">\n",
              "  <thead>\n",
              "    <tr style=\"text-align: right;\">\n",
              "      <th></th>\n",
              "      <th>Type of Error</th>\n",
              "      <th>Value of Error</th>\n",
              "    </tr>\n",
              "  </thead>\n",
              "  <tbody>\n",
              "    <tr>\n",
              "      <th>0</th>\n",
              "      <td>Mean Squared Error</td>\n",
              "      <td>12.322969</td>\n",
              "    </tr>\n",
              "    <tr>\n",
              "      <th>1</th>\n",
              "      <td>Root Mean Squared Error</td>\n",
              "      <td>3.510409</td>\n",
              "    </tr>\n",
              "    <tr>\n",
              "      <th>2</th>\n",
              "      <td>Mean Absolute Error</td>\n",
              "      <td>1.522189</td>\n",
              "    </tr>\n",
              "  </tbody>\n",
              "</table>\n",
              "</div>\n",
              "    <div class=\"colab-df-buttons\">\n",
              "\n",
              "  <div class=\"colab-df-container\">\n",
              "    <button class=\"colab-df-convert\" onclick=\"convertToInteractive('df-a0e73e66-cbf3-4baa-8673-024eac6111c7')\"\n",
              "            title=\"Convert this dataframe to an interactive table.\"\n",
              "            style=\"display:none;\">\n",
              "\n",
              "  <svg xmlns=\"http://www.w3.org/2000/svg\" height=\"24px\" viewBox=\"0 -960 960 960\">\n",
              "    <path d=\"M120-120v-720h720v720H120Zm60-500h600v-160H180v160Zm220 220h160v-160H400v160Zm0 220h160v-160H400v160ZM180-400h160v-160H180v160Zm440 0h160v-160H620v160ZM180-180h160v-160H180v160Zm440 0h160v-160H620v160Z\"/>\n",
              "  </svg>\n",
              "    </button>\n",
              "\n",
              "  <style>\n",
              "    .colab-df-container {\n",
              "      display:flex;\n",
              "      gap: 12px;\n",
              "    }\n",
              "\n",
              "    .colab-df-convert {\n",
              "      background-color: #E8F0FE;\n",
              "      border: none;\n",
              "      border-radius: 50%;\n",
              "      cursor: pointer;\n",
              "      display: none;\n",
              "      fill: #1967D2;\n",
              "      height: 32px;\n",
              "      padding: 0 0 0 0;\n",
              "      width: 32px;\n",
              "    }\n",
              "\n",
              "    .colab-df-convert:hover {\n",
              "      background-color: #E2EBFA;\n",
              "      box-shadow: 0px 1px 2px rgba(60, 64, 67, 0.3), 0px 1px 3px 1px rgba(60, 64, 67, 0.15);\n",
              "      fill: #174EA6;\n",
              "    }\n",
              "\n",
              "    .colab-df-buttons div {\n",
              "      margin-bottom: 4px;\n",
              "    }\n",
              "\n",
              "    [theme=dark] .colab-df-convert {\n",
              "      background-color: #3B4455;\n",
              "      fill: #D2E3FC;\n",
              "    }\n",
              "\n",
              "    [theme=dark] .colab-df-convert:hover {\n",
              "      background-color: #434B5C;\n",
              "      box-shadow: 0px 1px 3px 1px rgba(0, 0, 0, 0.15);\n",
              "      filter: drop-shadow(0px 1px 2px rgba(0, 0, 0, 0.3));\n",
              "      fill: #FFFFFF;\n",
              "    }\n",
              "  </style>\n",
              "\n",
              "    <script>\n",
              "      const buttonEl =\n",
              "        document.querySelector('#df-a0e73e66-cbf3-4baa-8673-024eac6111c7 button.colab-df-convert');\n",
              "      buttonEl.style.display =\n",
              "        google.colab.kernel.accessAllowed ? 'block' : 'none';\n",
              "\n",
              "      async function convertToInteractive(key) {\n",
              "        const element = document.querySelector('#df-a0e73e66-cbf3-4baa-8673-024eac6111c7');\n",
              "        const dataTable =\n",
              "          await google.colab.kernel.invokeFunction('convertToInteractive',\n",
              "                                                    [key], {});\n",
              "        if (!dataTable) return;\n",
              "\n",
              "        const docLinkHtml = 'Like what you see? Visit the ' +\n",
              "          '<a target=\"_blank\" href=https://colab.research.google.com/notebooks/data_table.ipynb>data table notebook</a>'\n",
              "          + ' to learn more about interactive tables.';\n",
              "        element.innerHTML = '';\n",
              "        dataTable['output_type'] = 'display_data';\n",
              "        await google.colab.output.renderOutput(dataTable, element);\n",
              "        const docLink = document.createElement('div');\n",
              "        docLink.innerHTML = docLinkHtml;\n",
              "        element.appendChild(docLink);\n",
              "      }\n",
              "    </script>\n",
              "  </div>\n",
              "\n",
              "\n",
              "<div id=\"df-76152d3f-6e1b-446c-aee6-092e6f3fee34\">\n",
              "  <button class=\"colab-df-quickchart\" onclick=\"quickchart('df-76152d3f-6e1b-446c-aee6-092e6f3fee34')\"\n",
              "            title=\"Suggest charts\"\n",
              "            style=\"display:none;\">\n",
              "\n",
              "<svg xmlns=\"http://www.w3.org/2000/svg\" height=\"24px\"viewBox=\"0 0 24 24\"\n",
              "     width=\"24px\">\n",
              "    <g>\n",
              "        <path d=\"M19 3H5c-1.1 0-2 .9-2 2v14c0 1.1.9 2 2 2h14c1.1 0 2-.9 2-2V5c0-1.1-.9-2-2-2zM9 17H7v-7h2v7zm4 0h-2V7h2v10zm4 0h-2v-4h2v4z\"/>\n",
              "    </g>\n",
              "</svg>\n",
              "  </button>\n",
              "\n",
              "<style>\n",
              "  .colab-df-quickchart {\n",
              "      --bg-color: #E8F0FE;\n",
              "      --fill-color: #1967D2;\n",
              "      --hover-bg-color: #E2EBFA;\n",
              "      --hover-fill-color: #174EA6;\n",
              "      --disabled-fill-color: #AAA;\n",
              "      --disabled-bg-color: #DDD;\n",
              "  }\n",
              "\n",
              "  [theme=dark] .colab-df-quickchart {\n",
              "      --bg-color: #3B4455;\n",
              "      --fill-color: #D2E3FC;\n",
              "      --hover-bg-color: #434B5C;\n",
              "      --hover-fill-color: #FFFFFF;\n",
              "      --disabled-bg-color: #3B4455;\n",
              "      --disabled-fill-color: #666;\n",
              "  }\n",
              "\n",
              "  .colab-df-quickchart {\n",
              "    background-color: var(--bg-color);\n",
              "    border: none;\n",
              "    border-radius: 50%;\n",
              "    cursor: pointer;\n",
              "    display: none;\n",
              "    fill: var(--fill-color);\n",
              "    height: 32px;\n",
              "    padding: 0;\n",
              "    width: 32px;\n",
              "  }\n",
              "\n",
              "  .colab-df-quickchart:hover {\n",
              "    background-color: var(--hover-bg-color);\n",
              "    box-shadow: 0 1px 2px rgba(60, 64, 67, 0.3), 0 1px 3px 1px rgba(60, 64, 67, 0.15);\n",
              "    fill: var(--button-hover-fill-color);\n",
              "  }\n",
              "\n",
              "  .colab-df-quickchart-complete:disabled,\n",
              "  .colab-df-quickchart-complete:disabled:hover {\n",
              "    background-color: var(--disabled-bg-color);\n",
              "    fill: var(--disabled-fill-color);\n",
              "    box-shadow: none;\n",
              "  }\n",
              "\n",
              "  .colab-df-spinner {\n",
              "    border: 2px solid var(--fill-color);\n",
              "    border-color: transparent;\n",
              "    border-bottom-color: var(--fill-color);\n",
              "    animation:\n",
              "      spin 1s steps(1) infinite;\n",
              "  }\n",
              "\n",
              "  @keyframes spin {\n",
              "    0% {\n",
              "      border-color: transparent;\n",
              "      border-bottom-color: var(--fill-color);\n",
              "      border-left-color: var(--fill-color);\n",
              "    }\n",
              "    20% {\n",
              "      border-color: transparent;\n",
              "      border-left-color: var(--fill-color);\n",
              "      border-top-color: var(--fill-color);\n",
              "    }\n",
              "    30% {\n",
              "      border-color: transparent;\n",
              "      border-left-color: var(--fill-color);\n",
              "      border-top-color: var(--fill-color);\n",
              "      border-right-color: var(--fill-color);\n",
              "    }\n",
              "    40% {\n",
              "      border-color: transparent;\n",
              "      border-right-color: var(--fill-color);\n",
              "      border-top-color: var(--fill-color);\n",
              "    }\n",
              "    60% {\n",
              "      border-color: transparent;\n",
              "      border-right-color: var(--fill-color);\n",
              "    }\n",
              "    80% {\n",
              "      border-color: transparent;\n",
              "      border-right-color: var(--fill-color);\n",
              "      border-bottom-color: var(--fill-color);\n",
              "    }\n",
              "    90% {\n",
              "      border-color: transparent;\n",
              "      border-bottom-color: var(--fill-color);\n",
              "    }\n",
              "  }\n",
              "</style>\n",
              "\n",
              "  <script>\n",
              "    async function quickchart(key) {\n",
              "      const quickchartButtonEl =\n",
              "        document.querySelector('#' + key + ' button');\n",
              "      quickchartButtonEl.disabled = true;  // To prevent multiple clicks.\n",
              "      quickchartButtonEl.classList.add('colab-df-spinner');\n",
              "      try {\n",
              "        const charts = await google.colab.kernel.invokeFunction(\n",
              "            'suggestCharts', [key], {});\n",
              "      } catch (error) {\n",
              "        console.error('Error during call to suggestCharts:', error);\n",
              "      }\n",
              "      quickchartButtonEl.classList.remove('colab-df-spinner');\n",
              "      quickchartButtonEl.classList.add('colab-df-quickchart-complete');\n",
              "    }\n",
              "    (() => {\n",
              "      let quickchartButtonEl =\n",
              "        document.querySelector('#df-76152d3f-6e1b-446c-aee6-092e6f3fee34 button');\n",
              "      quickchartButtonEl.style.display =\n",
              "        google.colab.kernel.accessAllowed ? 'block' : 'none';\n",
              "    })();\n",
              "  </script>\n",
              "</div>\n",
              "\n",
              "    </div>\n",
              "  </div>\n"
            ]
          },
          "metadata": {},
          "execution_count": 1258
        }
      ]
    },
    {
      "cell_type": "code",
      "source": [
        "true_color = 'b'  # Blue\n",
        "pred_color = 'r'  # Red\n",
        "\n",
        "plt.scatter(y_test, y_test, color=true_color, label='True Values')\n",
        "plt.scatter(y_test, y_pred, color=pred_color, label='Predicted Values')\n",
        "plt.xlabel(\"True Values (y_test)\")\n",
        "plt.ylabel(\"Predicted Values (y_pred)\")\n",
        "plt.title(\"True vs. Predicted Values (Regression)\")\n",
        "\n",
        "# Create a legend to label the points\n",
        "plt.legend()\n",
        "plt.show()\n"
      ],
      "metadata": {
        "colab": {
          "base_uri": "https://localhost:8080/",
          "height": 480
        },
        "id": "Tq_DITdV6PKU",
        "outputId": "311425e8-6482-4413-c9b3-8a009b404d43"
      },
      "execution_count": null,
      "outputs": [
        {
          "output_type": "display_data",
          "data": {
            "text/plain": [
              "<Figure size 640x480 with 1 Axes>"
            ],
            "image/png": "[encoded data removed]"
          },
          "metadata": {}
        }
      ]
    },
    {
      "cell_type": "code",
      "source": [],
      "metadata": {
        "id": "HGxJgXez9jEh"
      },
      "execution_count": null,
      "outputs": []
    }
  ]
}